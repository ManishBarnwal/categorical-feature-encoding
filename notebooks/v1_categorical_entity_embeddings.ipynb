{
 "cells": [
  {
   "cell_type": "code",
   "execution_count": 1,
   "metadata": {},
   "outputs": [],
   "source": [
    "from IPython.core.interactiveshell import InteractiveShell\n",
    "InteractiveShell.ast_node_interactivity = \"all\"\n",
    "\n",
    "%load_ext autoreload\n",
    "%autoreload 2"
   ]
  },
  {
   "cell_type": "code",
   "execution_count": 2,
   "metadata": {},
   "outputs": [
    {
     "data": {
      "text/plain": [
       "<torch._C.Generator at 0x1275e0450>"
      ]
     },
     "execution_count": 2,
     "metadata": {},
     "output_type": "execute_result"
    }
   ],
   "source": [
    "import torch\n",
    "import torch.nn as nn\n",
    "import torch.nn.functional as F\n",
    "import torch.optim as optim\n",
    "\n",
    "torch.manual_seed(1)"
   ]
  },
  {
   "cell_type": "code",
   "execution_count": 3,
   "metadata": {},
   "outputs": [],
   "source": [
    "import numpy as np\n",
    "import pandas as pd\n",
    "\n",
    "from sklearn import metrics, preprocessing\n"
   ]
  },
  {
   "cell_type": "code",
   "execution_count": 4,
   "metadata": {},
   "outputs": [
    {
     "name": "stdout",
     "output_type": "stream",
     "text": [
      "sample_submission.csv test.csv              train.csv\n"
     ]
    }
   ],
   "source": [
    "!ls data/input"
   ]
  },
  {
   "cell_type": "code",
   "execution_count": 5,
   "metadata": {},
   "outputs": [],
   "source": [
    "train = pd.read_csv('data/input/train.csv')\n",
    "test = pd.read_csv('data/input/test.csv')\n",
    "sample_submission = pd.read_csv('data/input/sample_submission.csv')"
   ]
  },
  {
   "cell_type": "code",
   "execution_count": 6,
   "metadata": {},
   "outputs": [
    {
     "data": {
      "text/plain": [
       "(600000, 25)"
      ]
     },
     "execution_count": 6,
     "metadata": {},
     "output_type": "execute_result"
    },
    {
     "data": {
      "text/html": [
       "<div>\n",
       "<style scoped>\n",
       "    .dataframe tbody tr th:only-of-type {\n",
       "        vertical-align: middle;\n",
       "    }\n",
       "\n",
       "    .dataframe tbody tr th {\n",
       "        vertical-align: top;\n",
       "    }\n",
       "\n",
       "    .dataframe thead th {\n",
       "        text-align: right;\n",
       "    }\n",
       "</style>\n",
       "<table border=\"1\" class=\"dataframe\">\n",
       "  <thead>\n",
       "    <tr style=\"text-align: right;\">\n",
       "      <th></th>\n",
       "      <th>id</th>\n",
       "      <th>bin_0</th>\n",
       "      <th>bin_1</th>\n",
       "      <th>bin_2</th>\n",
       "      <th>bin_3</th>\n",
       "      <th>bin_4</th>\n",
       "      <th>nom_0</th>\n",
       "      <th>nom_1</th>\n",
       "      <th>nom_2</th>\n",
       "      <th>nom_3</th>\n",
       "      <th>...</th>\n",
       "      <th>nom_9</th>\n",
       "      <th>ord_0</th>\n",
       "      <th>ord_1</th>\n",
       "      <th>ord_2</th>\n",
       "      <th>ord_3</th>\n",
       "      <th>ord_4</th>\n",
       "      <th>ord_5</th>\n",
       "      <th>day</th>\n",
       "      <th>month</th>\n",
       "      <th>target</th>\n",
       "    </tr>\n",
       "  </thead>\n",
       "  <tbody>\n",
       "    <tr>\n",
       "      <th>0</th>\n",
       "      <td>0</td>\n",
       "      <td>0.0</td>\n",
       "      <td>0.0</td>\n",
       "      <td>0.0</td>\n",
       "      <td>F</td>\n",
       "      <td>N</td>\n",
       "      <td>Red</td>\n",
       "      <td>Trapezoid</td>\n",
       "      <td>Hamster</td>\n",
       "      <td>Russia</td>\n",
       "      <td>...</td>\n",
       "      <td>02e7c8990</td>\n",
       "      <td>3.0</td>\n",
       "      <td>Contributor</td>\n",
       "      <td>Hot</td>\n",
       "      <td>c</td>\n",
       "      <td>U</td>\n",
       "      <td>Pw</td>\n",
       "      <td>6.0</td>\n",
       "      <td>3.0</td>\n",
       "      <td>0</td>\n",
       "    </tr>\n",
       "    <tr>\n",
       "      <th>1</th>\n",
       "      <td>1</td>\n",
       "      <td>1.0</td>\n",
       "      <td>1.0</td>\n",
       "      <td>0.0</td>\n",
       "      <td>F</td>\n",
       "      <td>Y</td>\n",
       "      <td>Red</td>\n",
       "      <td>Star</td>\n",
       "      <td>Axolotl</td>\n",
       "      <td>NaN</td>\n",
       "      <td>...</td>\n",
       "      <td>f37df64af</td>\n",
       "      <td>3.0</td>\n",
       "      <td>Grandmaster</td>\n",
       "      <td>Warm</td>\n",
       "      <td>e</td>\n",
       "      <td>X</td>\n",
       "      <td>pE</td>\n",
       "      <td>7.0</td>\n",
       "      <td>7.0</td>\n",
       "      <td>0</td>\n",
       "    </tr>\n",
       "    <tr>\n",
       "      <th>2</th>\n",
       "      <td>2</td>\n",
       "      <td>0.0</td>\n",
       "      <td>1.0</td>\n",
       "      <td>0.0</td>\n",
       "      <td>F</td>\n",
       "      <td>N</td>\n",
       "      <td>Red</td>\n",
       "      <td>NaN</td>\n",
       "      <td>Hamster</td>\n",
       "      <td>Canada</td>\n",
       "      <td>...</td>\n",
       "      <td>NaN</td>\n",
       "      <td>3.0</td>\n",
       "      <td>NaN</td>\n",
       "      <td>Freezing</td>\n",
       "      <td>n</td>\n",
       "      <td>P</td>\n",
       "      <td>eN</td>\n",
       "      <td>5.0</td>\n",
       "      <td>9.0</td>\n",
       "      <td>0</td>\n",
       "    </tr>\n",
       "    <tr>\n",
       "      <th>3</th>\n",
       "      <td>3</td>\n",
       "      <td>NaN</td>\n",
       "      <td>0.0</td>\n",
       "      <td>0.0</td>\n",
       "      <td>F</td>\n",
       "      <td>N</td>\n",
       "      <td>Red</td>\n",
       "      <td>Circle</td>\n",
       "      <td>Hamster</td>\n",
       "      <td>Finland</td>\n",
       "      <td>...</td>\n",
       "      <td>f9d456e57</td>\n",
       "      <td>1.0</td>\n",
       "      <td>Novice</td>\n",
       "      <td>Lava Hot</td>\n",
       "      <td>a</td>\n",
       "      <td>C</td>\n",
       "      <td>NaN</td>\n",
       "      <td>3.0</td>\n",
       "      <td>3.0</td>\n",
       "      <td>0</td>\n",
       "    </tr>\n",
       "    <tr>\n",
       "      <th>4</th>\n",
       "      <td>4</td>\n",
       "      <td>0.0</td>\n",
       "      <td>NaN</td>\n",
       "      <td>0.0</td>\n",
       "      <td>T</td>\n",
       "      <td>N</td>\n",
       "      <td>Red</td>\n",
       "      <td>Triangle</td>\n",
       "      <td>Hamster</td>\n",
       "      <td>Costa Rica</td>\n",
       "      <td>...</td>\n",
       "      <td>c5361037c</td>\n",
       "      <td>3.0</td>\n",
       "      <td>Grandmaster</td>\n",
       "      <td>Cold</td>\n",
       "      <td>h</td>\n",
       "      <td>C</td>\n",
       "      <td>OZ</td>\n",
       "      <td>5.0</td>\n",
       "      <td>12.0</td>\n",
       "      <td>0</td>\n",
       "    </tr>\n",
       "  </tbody>\n",
       "</table>\n",
       "<p>5 rows × 25 columns</p>\n",
       "</div>"
      ],
      "text/plain": [
       "   id  bin_0  bin_1  bin_2 bin_3 bin_4 nom_0      nom_1    nom_2       nom_3   \n",
       "0   0    0.0    0.0    0.0     F     N   Red  Trapezoid  Hamster      Russia  \\\n",
       "1   1    1.0    1.0    0.0     F     Y   Red       Star  Axolotl         NaN   \n",
       "2   2    0.0    1.0    0.0     F     N   Red        NaN  Hamster      Canada   \n",
       "3   3    NaN    0.0    0.0     F     N   Red     Circle  Hamster     Finland   \n",
       "4   4    0.0    NaN    0.0     T     N   Red   Triangle  Hamster  Costa Rica   \n",
       "\n",
       "   ...      nom_9 ord_0        ord_1     ord_2 ord_3 ord_4  ord_5  day month   \n",
       "0  ...  02e7c8990   3.0  Contributor       Hot     c     U     Pw  6.0   3.0  \\\n",
       "1  ...  f37df64af   3.0  Grandmaster      Warm     e     X     pE  7.0   7.0   \n",
       "2  ...        NaN   3.0          NaN  Freezing     n     P     eN  5.0   9.0   \n",
       "3  ...  f9d456e57   1.0       Novice  Lava Hot     a     C    NaN  3.0   3.0   \n",
       "4  ...  c5361037c   3.0  Grandmaster      Cold     h     C     OZ  5.0  12.0   \n",
       "\n",
       "  target  \n",
       "0      0  \n",
       "1      0  \n",
       "2      0  \n",
       "3      0  \n",
       "4      0  \n",
       "\n",
       "[5 rows x 25 columns]"
      ]
     },
     "execution_count": 6,
     "metadata": {},
     "output_type": "execute_result"
    }
   ],
   "source": [
    "train.shape\n",
    "train.head()"
   ]
  },
  {
   "cell_type": "code",
   "execution_count": 7,
   "metadata": {},
   "outputs": [
    {
     "data": {
      "text/plain": [
       "id          int64\n",
       "bin_0     float64\n",
       "bin_1     float64\n",
       "bin_2     float64\n",
       "bin_3      object\n",
       "bin_4      object\n",
       "nom_0      object\n",
       "nom_1      object\n",
       "nom_2      object\n",
       "nom_3      object\n",
       "nom_4      object\n",
       "nom_5      object\n",
       "nom_6      object\n",
       "nom_7      object\n",
       "nom_8      object\n",
       "nom_9      object\n",
       "ord_0     float64\n",
       "ord_1      object\n",
       "ord_2      object\n",
       "ord_3      object\n",
       "ord_4      object\n",
       "ord_5      object\n",
       "day       float64\n",
       "month     float64\n",
       "target      int64\n",
       "dtype: object"
      ]
     },
     "execution_count": 7,
     "metadata": {},
     "output_type": "execute_result"
    },
    {
     "data": {
      "text/plain": [
       "object     17\n",
       "float64     6\n",
       "int64       2\n",
       "Name: count, dtype: int64"
      ]
     },
     "execution_count": 7,
     "metadata": {},
     "output_type": "execute_result"
    }
   ],
   "source": [
    "train.dtypes\n",
    "train.dtypes.value_counts()"
   ]
  },
  {
   "cell_type": "code",
   "execution_count": 8,
   "metadata": {},
   "outputs": [
    {
     "data": {
      "text/plain": [
       "target\n",
       "0    487677\n",
       "1    112323\n",
       "Name: count, dtype: int64"
      ]
     },
     "execution_count": 8,
     "metadata": {},
     "output_type": "execute_result"
    }
   ],
   "source": [
    "train.target.value_counts()"
   ]
  },
  {
   "attachments": {},
   "cell_type": "markdown",
   "metadata": {},
   "source": [
    "## Select categorical columns"
   ]
  },
  {
   "cell_type": "code",
   "execution_count": 9,
   "metadata": {},
   "outputs": [
    {
     "data": {
      "text/plain": [
       "17"
      ]
     },
     "execution_count": 9,
     "metadata": {},
     "output_type": "execute_result"
    },
    {
     "data": {
      "text/plain": [
       "['bin_3',\n",
       " 'bin_4',\n",
       " 'nom_0',\n",
       " 'nom_1',\n",
       " 'nom_2',\n",
       " 'nom_3',\n",
       " 'nom_4',\n",
       " 'nom_5',\n",
       " 'nom_6',\n",
       " 'nom_7',\n",
       " 'nom_8',\n",
       " 'nom_9',\n",
       " 'ord_1',\n",
       " 'ord_2',\n",
       " 'ord_3',\n",
       " 'ord_4',\n",
       " 'ord_5']"
      ]
     },
     "execution_count": 9,
     "metadata": {},
     "output_type": "execute_result"
    }
   ],
   "source": [
    "categorical_columns = list(train.select_dtypes(include='object').columns.values)\n",
    "len(categorical_columns)\n",
    "categorical_columns\n"
   ]
  },
  {
   "cell_type": "code",
   "execution_count": 10,
   "metadata": {},
   "outputs": [
    {
     "data": {
      "text/plain": [
       "['bin_3',\n",
       " 'bin_4',\n",
       " 'nom_0',\n",
       " 'nom_1',\n",
       " 'nom_2',\n",
       " 'nom_3',\n",
       " 'nom_4',\n",
       " 'nom_5',\n",
       " 'nom_6',\n",
       " 'nom_7',\n",
       " 'nom_8',\n",
       " 'nom_9',\n",
       " 'ord_1',\n",
       " 'ord_2',\n",
       " 'ord_3',\n",
       " 'ord_4',\n",
       " 'ord_5',\n",
       " 'target']"
      ]
     },
     "execution_count": 10,
     "metadata": {},
     "output_type": "execute_result"
    }
   ],
   "source": [
    "include_columns = categorical_columns + ['target']\n",
    "include_columns"
   ]
  },
  {
   "cell_type": "code",
   "execution_count": 11,
   "metadata": {},
   "outputs": [
    {
     "data": {
      "text/html": [
       "<div>\n",
       "<style scoped>\n",
       "    .dataframe tbody tr th:only-of-type {\n",
       "        vertical-align: middle;\n",
       "    }\n",
       "\n",
       "    .dataframe tbody tr th {\n",
       "        vertical-align: top;\n",
       "    }\n",
       "\n",
       "    .dataframe thead th {\n",
       "        text-align: right;\n",
       "    }\n",
       "</style>\n",
       "<table border=\"1\" class=\"dataframe\">\n",
       "  <thead>\n",
       "    <tr style=\"text-align: right;\">\n",
       "      <th></th>\n",
       "      <th>bin_3</th>\n",
       "      <th>bin_4</th>\n",
       "      <th>nom_0</th>\n",
       "      <th>nom_1</th>\n",
       "      <th>nom_2</th>\n",
       "      <th>nom_3</th>\n",
       "      <th>nom_4</th>\n",
       "      <th>nom_5</th>\n",
       "      <th>nom_6</th>\n",
       "      <th>nom_7</th>\n",
       "      <th>nom_8</th>\n",
       "      <th>nom_9</th>\n",
       "      <th>ord_1</th>\n",
       "      <th>ord_2</th>\n",
       "      <th>ord_3</th>\n",
       "      <th>ord_4</th>\n",
       "      <th>ord_5</th>\n",
       "      <th>target</th>\n",
       "    </tr>\n",
       "  </thead>\n",
       "  <tbody>\n",
       "    <tr>\n",
       "      <th>0</th>\n",
       "      <td>F</td>\n",
       "      <td>N</td>\n",
       "      <td>Red</td>\n",
       "      <td>Trapezoid</td>\n",
       "      <td>Hamster</td>\n",
       "      <td>Russia</td>\n",
       "      <td>Bassoon</td>\n",
       "      <td>de4c57ee2</td>\n",
       "      <td>a64bc7ddf</td>\n",
       "      <td>598080a91</td>\n",
       "      <td>0256c7a4b</td>\n",
       "      <td>02e7c8990</td>\n",
       "      <td>Contributor</td>\n",
       "      <td>Hot</td>\n",
       "      <td>c</td>\n",
       "      <td>U</td>\n",
       "      <td>Pw</td>\n",
       "      <td>0</td>\n",
       "    </tr>\n",
       "    <tr>\n",
       "      <th>1</th>\n",
       "      <td>F</td>\n",
       "      <td>Y</td>\n",
       "      <td>Red</td>\n",
       "      <td>Star</td>\n",
       "      <td>Axolotl</td>\n",
       "      <td>NaN</td>\n",
       "      <td>Theremin</td>\n",
       "      <td>2bb3c3e5c</td>\n",
       "      <td>3a3a936e8</td>\n",
       "      <td>1dddb8473</td>\n",
       "      <td>52ead350c</td>\n",
       "      <td>f37df64af</td>\n",
       "      <td>Grandmaster</td>\n",
       "      <td>Warm</td>\n",
       "      <td>e</td>\n",
       "      <td>X</td>\n",
       "      <td>pE</td>\n",
       "      <td>0</td>\n",
       "    </tr>\n",
       "    <tr>\n",
       "      <th>2</th>\n",
       "      <td>F</td>\n",
       "      <td>N</td>\n",
       "      <td>Red</td>\n",
       "      <td>NaN</td>\n",
       "      <td>Hamster</td>\n",
       "      <td>Canada</td>\n",
       "      <td>Bassoon</td>\n",
       "      <td>b574c9841</td>\n",
       "      <td>708248125</td>\n",
       "      <td>5ddc9a726</td>\n",
       "      <td>745b909d1</td>\n",
       "      <td>NaN</td>\n",
       "      <td>NaN</td>\n",
       "      <td>Freezing</td>\n",
       "      <td>n</td>\n",
       "      <td>P</td>\n",
       "      <td>eN</td>\n",
       "      <td>0</td>\n",
       "    </tr>\n",
       "    <tr>\n",
       "      <th>3</th>\n",
       "      <td>F</td>\n",
       "      <td>N</td>\n",
       "      <td>Red</td>\n",
       "      <td>Circle</td>\n",
       "      <td>Hamster</td>\n",
       "      <td>Finland</td>\n",
       "      <td>Theremin</td>\n",
       "      <td>673bdf1f6</td>\n",
       "      <td>23edb8da3</td>\n",
       "      <td>3a33ef960</td>\n",
       "      <td>bdaa56dd1</td>\n",
       "      <td>f9d456e57</td>\n",
       "      <td>Novice</td>\n",
       "      <td>Lava Hot</td>\n",
       "      <td>a</td>\n",
       "      <td>C</td>\n",
       "      <td>NaN</td>\n",
       "      <td>0</td>\n",
       "    </tr>\n",
       "    <tr>\n",
       "      <th>4</th>\n",
       "      <td>T</td>\n",
       "      <td>N</td>\n",
       "      <td>Red</td>\n",
       "      <td>Triangle</td>\n",
       "      <td>Hamster</td>\n",
       "      <td>Costa Rica</td>\n",
       "      <td>NaN</td>\n",
       "      <td>777d1ac2c</td>\n",
       "      <td>3a7975e46</td>\n",
       "      <td>bc9cc2a94</td>\n",
       "      <td>NaN</td>\n",
       "      <td>c5361037c</td>\n",
       "      <td>Grandmaster</td>\n",
       "      <td>Cold</td>\n",
       "      <td>h</td>\n",
       "      <td>C</td>\n",
       "      <td>OZ</td>\n",
       "      <td>0</td>\n",
       "    </tr>\n",
       "  </tbody>\n",
       "</table>\n",
       "</div>"
      ],
      "text/plain": [
       "  bin_3 bin_4 nom_0      nom_1    nom_2       nom_3     nom_4      nom_5   \n",
       "0     F     N   Red  Trapezoid  Hamster      Russia   Bassoon  de4c57ee2  \\\n",
       "1     F     Y   Red       Star  Axolotl         NaN  Theremin  2bb3c3e5c   \n",
       "2     F     N   Red        NaN  Hamster      Canada   Bassoon  b574c9841   \n",
       "3     F     N   Red     Circle  Hamster     Finland  Theremin  673bdf1f6   \n",
       "4     T     N   Red   Triangle  Hamster  Costa Rica       NaN  777d1ac2c   \n",
       "\n",
       "       nom_6      nom_7      nom_8      nom_9        ord_1     ord_2 ord_3   \n",
       "0  a64bc7ddf  598080a91  0256c7a4b  02e7c8990  Contributor       Hot     c  \\\n",
       "1  3a3a936e8  1dddb8473  52ead350c  f37df64af  Grandmaster      Warm     e   \n",
       "2  708248125  5ddc9a726  745b909d1        NaN          NaN  Freezing     n   \n",
       "3  23edb8da3  3a33ef960  bdaa56dd1  f9d456e57       Novice  Lava Hot     a   \n",
       "4  3a7975e46  bc9cc2a94        NaN  c5361037c  Grandmaster      Cold     h   \n",
       "\n",
       "  ord_4 ord_5  target  \n",
       "0     U    Pw       0  \n",
       "1     X    pE       0  \n",
       "2     P    eN       0  \n",
       "3     C   NaN       0  \n",
       "4     C    OZ       0  "
      ]
     },
     "execution_count": 11,
     "metadata": {},
     "output_type": "execute_result"
    },
    {
     "data": {
      "text/plain": [
       "(600000, 18)"
      ]
     },
     "execution_count": 11,
     "metadata": {},
     "output_type": "execute_result"
    }
   ],
   "source": [
    "train_categorical_df = train.loc[:, include_columns]\n",
    "train_categorical_df.head()\n",
    "train_categorical_df.shape"
   ]
  },
  {
   "cell_type": "code",
   "execution_count": 12,
   "metadata": {},
   "outputs": [
    {
     "data": {
      "text/plain": [
       "bin_3     18014\n",
       "bin_4     18047\n",
       "nom_0     18252\n",
       "nom_1     18156\n",
       "nom_2     18035\n",
       "nom_3     18121\n",
       "nom_4     18035\n",
       "nom_5     17778\n",
       "nom_6     18131\n",
       "nom_7     18003\n",
       "nom_8     17755\n",
       "nom_9     18073\n",
       "ord_1     18041\n",
       "ord_2     18075\n",
       "ord_3     17916\n",
       "ord_4     17930\n",
       "ord_5     17713\n",
       "target        0\n",
       "dtype: int64"
      ]
     },
     "execution_count": 12,
     "metadata": {},
     "output_type": "execute_result"
    }
   ],
   "source": [
    "train_categorical_df.isna().sum()"
   ]
  },
  {
   "cell_type": "code",
   "execution_count": 13,
   "metadata": {},
   "outputs": [
    {
     "data": {
      "text/html": [
       "<div>\n",
       "<style scoped>\n",
       "    .dataframe tbody tr th:only-of-type {\n",
       "        vertical-align: middle;\n",
       "    }\n",
       "\n",
       "    .dataframe tbody tr th {\n",
       "        vertical-align: top;\n",
       "    }\n",
       "\n",
       "    .dataframe thead th {\n",
       "        text-align: right;\n",
       "    }\n",
       "</style>\n",
       "<table border=\"1\" class=\"dataframe\">\n",
       "  <thead>\n",
       "    <tr style=\"text-align: right;\">\n",
       "      <th></th>\n",
       "      <th>bin_3</th>\n",
       "      <th>bin_4</th>\n",
       "      <th>nom_0</th>\n",
       "      <th>nom_1</th>\n",
       "      <th>nom_2</th>\n",
       "      <th>nom_3</th>\n",
       "      <th>nom_4</th>\n",
       "      <th>nom_5</th>\n",
       "      <th>nom_6</th>\n",
       "      <th>nom_7</th>\n",
       "      <th>nom_8</th>\n",
       "      <th>nom_9</th>\n",
       "      <th>ord_1</th>\n",
       "      <th>ord_2</th>\n",
       "      <th>ord_3</th>\n",
       "      <th>ord_4</th>\n",
       "      <th>ord_5</th>\n",
       "      <th>target</th>\n",
       "    </tr>\n",
       "  </thead>\n",
       "  <tbody>\n",
       "    <tr>\n",
       "      <th>0</th>\n",
       "      <td>F</td>\n",
       "      <td>Y</td>\n",
       "      <td>Blue</td>\n",
       "      <td>Polygon</td>\n",
       "      <td>Axolotl</td>\n",
       "      <td>Finland</td>\n",
       "      <td>Piano</td>\n",
       "      <td>52f6dd16c</td>\n",
       "      <td>147d704e4</td>\n",
       "      <td>8d857a0a1</td>\n",
       "      <td>ca9ad1d4b</td>\n",
       "      <td>fced9e114</td>\n",
       "      <td>Novice</td>\n",
       "      <td>Boiling Hot</td>\n",
       "      <td>f</td>\n",
       "      <td>U</td>\n",
       "      <td>oU</td>\n",
       "      <td>-1</td>\n",
       "    </tr>\n",
       "    <tr>\n",
       "      <th>1</th>\n",
       "      <td>F</td>\n",
       "      <td>Y</td>\n",
       "      <td>Red</td>\n",
       "      <td>Circle</td>\n",
       "      <td>Lion</td>\n",
       "      <td>Russia</td>\n",
       "      <td>Bassoon</td>\n",
       "      <td>691ebeae8</td>\n",
       "      <td>8653dcc2e</td>\n",
       "      <td>67a8d4ebb</td>\n",
       "      <td>060a21580</td>\n",
       "      <td>7ca8775da</td>\n",
       "      <td>Novice</td>\n",
       "      <td>Cold</td>\n",
       "      <td>n</td>\n",
       "      <td>N</td>\n",
       "      <td>NaN</td>\n",
       "      <td>-1</td>\n",
       "    </tr>\n",
       "    <tr>\n",
       "      <th>2</th>\n",
       "      <td>F</td>\n",
       "      <td>Y</td>\n",
       "      <td>Blue</td>\n",
       "      <td>Circle</td>\n",
       "      <td>Axolotl</td>\n",
       "      <td>Russia</td>\n",
       "      <td>Theremin</td>\n",
       "      <td>81f792c16</td>\n",
       "      <td>6cdda499e</td>\n",
       "      <td>69403e18c</td>\n",
       "      <td>165e81a00</td>\n",
       "      <td>5940334c9</td>\n",
       "      <td>Expert</td>\n",
       "      <td>Warm</td>\n",
       "      <td>i</td>\n",
       "      <td>N</td>\n",
       "      <td>DN</td>\n",
       "      <td>-1</td>\n",
       "    </tr>\n",
       "    <tr>\n",
       "      <th>3</th>\n",
       "      <td>F</td>\n",
       "      <td>N</td>\n",
       "      <td>Red</td>\n",
       "      <td>Polygon</td>\n",
       "      <td>Axolotl</td>\n",
       "      <td>Costa Rica</td>\n",
       "      <td>Bassoon</td>\n",
       "      <td>c9134205b</td>\n",
       "      <td>acbca4827</td>\n",
       "      <td>cb681246b</td>\n",
       "      <td>77d41330d</td>\n",
       "      <td>6fbdeefc8</td>\n",
       "      <td>Expert</td>\n",
       "      <td>Hot</td>\n",
       "      <td>m</td>\n",
       "      <td>B</td>\n",
       "      <td>AG</td>\n",
       "      <td>-1</td>\n",
       "    </tr>\n",
       "    <tr>\n",
       "      <th>4</th>\n",
       "      <td>F</td>\n",
       "      <td>Y</td>\n",
       "      <td>Red</td>\n",
       "      <td>Circle</td>\n",
       "      <td>NaN</td>\n",
       "      <td>Finland</td>\n",
       "      <td>Theremin</td>\n",
       "      <td>f0f100f57</td>\n",
       "      <td>6f800b9af</td>\n",
       "      <td>cd9feb5c6</td>\n",
       "      <td>2218d9dfe</td>\n",
       "      <td>2a27c8fde</td>\n",
       "      <td>Contributor</td>\n",
       "      <td>Lava Hot</td>\n",
       "      <td>o</td>\n",
       "      <td>J</td>\n",
       "      <td>DT</td>\n",
       "      <td>-1</td>\n",
       "    </tr>\n",
       "  </tbody>\n",
       "</table>\n",
       "</div>"
      ],
      "text/plain": [
       "  bin_3 bin_4 nom_0    nom_1    nom_2       nom_3     nom_4      nom_5   \n",
       "0     F     Y  Blue  Polygon  Axolotl     Finland     Piano  52f6dd16c  \\\n",
       "1     F     Y   Red   Circle     Lion      Russia   Bassoon  691ebeae8   \n",
       "2     F     Y  Blue   Circle  Axolotl      Russia  Theremin  81f792c16   \n",
       "3     F     N   Red  Polygon  Axolotl  Costa Rica   Bassoon  c9134205b   \n",
       "4     F     Y   Red   Circle      NaN     Finland  Theremin  f0f100f57   \n",
       "\n",
       "       nom_6      nom_7      nom_8      nom_9        ord_1        ord_2 ord_3   \n",
       "0  147d704e4  8d857a0a1  ca9ad1d4b  fced9e114       Novice  Boiling Hot     f  \\\n",
       "1  8653dcc2e  67a8d4ebb  060a21580  7ca8775da       Novice         Cold     n   \n",
       "2  6cdda499e  69403e18c  165e81a00  5940334c9       Expert         Warm     i   \n",
       "3  acbca4827  cb681246b  77d41330d  6fbdeefc8       Expert          Hot     m   \n",
       "4  6f800b9af  cd9feb5c6  2218d9dfe  2a27c8fde  Contributor     Lava Hot     o   \n",
       "\n",
       "  ord_4 ord_5  target  \n",
       "0     U    oU      -1  \n",
       "1     N   NaN      -1  \n",
       "2     N    DN      -1  \n",
       "3     B    AG      -1  \n",
       "4     J    DT      -1  "
      ]
     },
     "execution_count": 13,
     "metadata": {},
     "output_type": "execute_result"
    },
    {
     "data": {
      "text/plain": [
       "(400000, 18)"
      ]
     },
     "execution_count": 13,
     "metadata": {},
     "output_type": "execute_result"
    }
   ],
   "source": [
    "test['target'] = -1\n",
    "test_categorical_df = test.loc[:, include_columns]\n",
    "test_categorical_df.head()\n",
    "test_categorical_df.shape"
   ]
  },
  {
   "cell_type": "code",
   "execution_count": 14,
   "metadata": {},
   "outputs": [
    {
     "data": {
      "text/plain": [
       "(1000000, 18)"
      ]
     },
     "execution_count": 14,
     "metadata": {},
     "output_type": "execute_result"
    },
    {
     "data": {
      "text/html": [
       "<div>\n",
       "<style scoped>\n",
       "    .dataframe tbody tr th:only-of-type {\n",
       "        vertical-align: middle;\n",
       "    }\n",
       "\n",
       "    .dataframe tbody tr th {\n",
       "        vertical-align: top;\n",
       "    }\n",
       "\n",
       "    .dataframe thead th {\n",
       "        text-align: right;\n",
       "    }\n",
       "</style>\n",
       "<table border=\"1\" class=\"dataframe\">\n",
       "  <thead>\n",
       "    <tr style=\"text-align: right;\">\n",
       "      <th></th>\n",
       "      <th>bin_3</th>\n",
       "      <th>bin_4</th>\n",
       "      <th>nom_0</th>\n",
       "      <th>nom_1</th>\n",
       "      <th>nom_2</th>\n",
       "      <th>nom_3</th>\n",
       "      <th>nom_4</th>\n",
       "      <th>nom_5</th>\n",
       "      <th>nom_6</th>\n",
       "      <th>nom_7</th>\n",
       "      <th>nom_8</th>\n",
       "      <th>nom_9</th>\n",
       "      <th>ord_1</th>\n",
       "      <th>ord_2</th>\n",
       "      <th>ord_3</th>\n",
       "      <th>ord_4</th>\n",
       "      <th>ord_5</th>\n",
       "      <th>target</th>\n",
       "    </tr>\n",
       "  </thead>\n",
       "  <tbody>\n",
       "    <tr>\n",
       "      <th>159109</th>\n",
       "      <td>F</td>\n",
       "      <td>N</td>\n",
       "      <td>Green</td>\n",
       "      <td>Triangle</td>\n",
       "      <td>Hamster</td>\n",
       "      <td>India</td>\n",
       "      <td>Theremin</td>\n",
       "      <td>05eecb19a</td>\n",
       "      <td>1df72d63f</td>\n",
       "      <td>67a8d4ebb</td>\n",
       "      <td>ca9ad1d4b</td>\n",
       "      <td>3bc419b1d</td>\n",
       "      <td>Novice</td>\n",
       "      <td>Hot</td>\n",
       "      <td>n</td>\n",
       "      <td>T</td>\n",
       "      <td>JT</td>\n",
       "      <td>0</td>\n",
       "    </tr>\n",
       "    <tr>\n",
       "      <th>52751</th>\n",
       "      <td>T</td>\n",
       "      <td>N</td>\n",
       "      <td>Red</td>\n",
       "      <td>Polygon</td>\n",
       "      <td>Axolotl</td>\n",
       "      <td>Finland</td>\n",
       "      <td>Theremin</td>\n",
       "      <td>8c5bd88e0</td>\n",
       "      <td>6708e676d</td>\n",
       "      <td>a306b1f4e</td>\n",
       "      <td>d7e75499d</td>\n",
       "      <td>c2bd37d86</td>\n",
       "      <td>Expert</td>\n",
       "      <td>Hot</td>\n",
       "      <td>k</td>\n",
       "      <td>NaN</td>\n",
       "      <td>IA</td>\n",
       "      <td>1</td>\n",
       "    </tr>\n",
       "    <tr>\n",
       "      <th>110526</th>\n",
       "      <td>T</td>\n",
       "      <td>N</td>\n",
       "      <td>Red</td>\n",
       "      <td>Triangle</td>\n",
       "      <td>Lion</td>\n",
       "      <td>India</td>\n",
       "      <td>Theremin</td>\n",
       "      <td>2c39d8ba3</td>\n",
       "      <td>81a4b3fd7</td>\n",
       "      <td>e4340c326</td>\n",
       "      <td>ad5be5be4</td>\n",
       "      <td>602d7a9af</td>\n",
       "      <td>NaN</td>\n",
       "      <td>Warm</td>\n",
       "      <td>n</td>\n",
       "      <td>M</td>\n",
       "      <td>UV</td>\n",
       "      <td>-1</td>\n",
       "    </tr>\n",
       "    <tr>\n",
       "      <th>360837</th>\n",
       "      <td>F</td>\n",
       "      <td>N</td>\n",
       "      <td>Blue</td>\n",
       "      <td>Trapezoid</td>\n",
       "      <td>Axolotl</td>\n",
       "      <td>Costa Rica</td>\n",
       "      <td>Oboe</td>\n",
       "      <td>8af144866</td>\n",
       "      <td>e49e58b2d</td>\n",
       "      <td>728490578</td>\n",
       "      <td>c2036219b</td>\n",
       "      <td>5704a43ba</td>\n",
       "      <td>Novice</td>\n",
       "      <td>Boiling Hot</td>\n",
       "      <td>n</td>\n",
       "      <td>M</td>\n",
       "      <td>TP</td>\n",
       "      <td>1</td>\n",
       "    </tr>\n",
       "    <tr>\n",
       "      <th>259665</th>\n",
       "      <td>F</td>\n",
       "      <td>Y</td>\n",
       "      <td>Blue</td>\n",
       "      <td>Circle</td>\n",
       "      <td>Hamster</td>\n",
       "      <td>China</td>\n",
       "      <td>Bassoon</td>\n",
       "      <td>187c74f5c</td>\n",
       "      <td>89442059b</td>\n",
       "      <td>83bdea3a5</td>\n",
       "      <td>d8e02864a</td>\n",
       "      <td>be76e74af</td>\n",
       "      <td>Contributor</td>\n",
       "      <td>Warm</td>\n",
       "      <td>h</td>\n",
       "      <td>H</td>\n",
       "      <td>LS</td>\n",
       "      <td>-1</td>\n",
       "    </tr>\n",
       "    <tr>\n",
       "      <th>436570</th>\n",
       "      <td>F</td>\n",
       "      <td>NaN</td>\n",
       "      <td>Green</td>\n",
       "      <td>Polygon</td>\n",
       "      <td>Hamster</td>\n",
       "      <td>Russia</td>\n",
       "      <td>Oboe</td>\n",
       "      <td>596e36e7d</td>\n",
       "      <td>9a7ce5b05</td>\n",
       "      <td>216083343</td>\n",
       "      <td>31db9b004</td>\n",
       "      <td>7c805bba8</td>\n",
       "      <td>Expert</td>\n",
       "      <td>Lava Hot</td>\n",
       "      <td>g</td>\n",
       "      <td>C</td>\n",
       "      <td>ja</td>\n",
       "      <td>0</td>\n",
       "    </tr>\n",
       "    <tr>\n",
       "      <th>272426</th>\n",
       "      <td>F</td>\n",
       "      <td>Y</td>\n",
       "      <td>Blue</td>\n",
       "      <td>Circle</td>\n",
       "      <td>Dog</td>\n",
       "      <td>Costa Rica</td>\n",
       "      <td>Bassoon</td>\n",
       "      <td>b574c9841</td>\n",
       "      <td>239707c71</td>\n",
       "      <td>8da514edb</td>\n",
       "      <td>750cb6661</td>\n",
       "      <td>NaN</td>\n",
       "      <td>Novice</td>\n",
       "      <td>Cold</td>\n",
       "      <td>a</td>\n",
       "      <td>T</td>\n",
       "      <td>CN</td>\n",
       "      <td>0</td>\n",
       "    </tr>\n",
       "    <tr>\n",
       "      <th>64564</th>\n",
       "      <td>F</td>\n",
       "      <td>N</td>\n",
       "      <td>Blue</td>\n",
       "      <td>Polygon</td>\n",
       "      <td>Axolotl</td>\n",
       "      <td>India</td>\n",
       "      <td>Oboe</td>\n",
       "      <td>6437de06d</td>\n",
       "      <td>dde11a3cc</td>\n",
       "      <td>7bf938847</td>\n",
       "      <td>32412c81c</td>\n",
       "      <td>e4bf32721</td>\n",
       "      <td>Novice</td>\n",
       "      <td>Lava Hot</td>\n",
       "      <td>g</td>\n",
       "      <td>C</td>\n",
       "      <td>uW</td>\n",
       "      <td>-1</td>\n",
       "    </tr>\n",
       "    <tr>\n",
       "      <th>325780</th>\n",
       "      <td>F</td>\n",
       "      <td>N</td>\n",
       "      <td>Blue</td>\n",
       "      <td>Trapezoid</td>\n",
       "      <td>Dog</td>\n",
       "      <td>Russia</td>\n",
       "      <td>Theremin</td>\n",
       "      <td>9b70ac13e</td>\n",
       "      <td>5f98e802b</td>\n",
       "      <td>22a1b223f</td>\n",
       "      <td>fbbafaadc</td>\n",
       "      <td>162e8e7a2</td>\n",
       "      <td>Grandmaster</td>\n",
       "      <td>Warm</td>\n",
       "      <td>h</td>\n",
       "      <td>U</td>\n",
       "      <td>us</td>\n",
       "      <td>-1</td>\n",
       "    </tr>\n",
       "    <tr>\n",
       "      <th>480738</th>\n",
       "      <td>T</td>\n",
       "      <td>Y</td>\n",
       "      <td>Red</td>\n",
       "      <td>Polygon</td>\n",
       "      <td>Axolotl</td>\n",
       "      <td>Costa Rica</td>\n",
       "      <td>Theremin</td>\n",
       "      <td>14039fa0e</td>\n",
       "      <td>336ebc4f3</td>\n",
       "      <td>d40ca0718</td>\n",
       "      <td>fbbafaadc</td>\n",
       "      <td>e02d06c48</td>\n",
       "      <td>Contributor</td>\n",
       "      <td>Boiling Hot</td>\n",
       "      <td>h</td>\n",
       "      <td>Q</td>\n",
       "      <td>kv</td>\n",
       "      <td>1</td>\n",
       "    </tr>\n",
       "  </tbody>\n",
       "</table>\n",
       "</div>"
      ],
      "text/plain": [
       "       bin_3 bin_4  nom_0      nom_1    nom_2       nom_3     nom_4   \n",
       "159109     F     N  Green   Triangle  Hamster       India  Theremin  \\\n",
       "52751      T     N    Red    Polygon  Axolotl     Finland  Theremin   \n",
       "110526     T     N    Red   Triangle     Lion       India  Theremin   \n",
       "360837     F     N   Blue  Trapezoid  Axolotl  Costa Rica      Oboe   \n",
       "259665     F     Y   Blue     Circle  Hamster       China   Bassoon   \n",
       "436570     F   NaN  Green    Polygon  Hamster      Russia      Oboe   \n",
       "272426     F     Y   Blue     Circle      Dog  Costa Rica   Bassoon   \n",
       "64564      F     N   Blue    Polygon  Axolotl       India      Oboe   \n",
       "325780     F     N   Blue  Trapezoid      Dog      Russia  Theremin   \n",
       "480738     T     Y    Red    Polygon  Axolotl  Costa Rica  Theremin   \n",
       "\n",
       "            nom_5      nom_6      nom_7      nom_8      nom_9        ord_1   \n",
       "159109  05eecb19a  1df72d63f  67a8d4ebb  ca9ad1d4b  3bc419b1d       Novice  \\\n",
       "52751   8c5bd88e0  6708e676d  a306b1f4e  d7e75499d  c2bd37d86       Expert   \n",
       "110526  2c39d8ba3  81a4b3fd7  e4340c326  ad5be5be4  602d7a9af          NaN   \n",
       "360837  8af144866  e49e58b2d  728490578  c2036219b  5704a43ba       Novice   \n",
       "259665  187c74f5c  89442059b  83bdea3a5  d8e02864a  be76e74af  Contributor   \n",
       "436570  596e36e7d  9a7ce5b05  216083343  31db9b004  7c805bba8       Expert   \n",
       "272426  b574c9841  239707c71  8da514edb  750cb6661        NaN       Novice   \n",
       "64564   6437de06d  dde11a3cc  7bf938847  32412c81c  e4bf32721       Novice   \n",
       "325780  9b70ac13e  5f98e802b  22a1b223f  fbbafaadc  162e8e7a2  Grandmaster   \n",
       "480738  14039fa0e  336ebc4f3  d40ca0718  fbbafaadc  e02d06c48  Contributor   \n",
       "\n",
       "              ord_2 ord_3 ord_4 ord_5  target  \n",
       "159109          Hot     n     T    JT       0  \n",
       "52751           Hot     k   NaN    IA       1  \n",
       "110526         Warm     n     M    UV      -1  \n",
       "360837  Boiling Hot     n     M    TP       1  \n",
       "259665         Warm     h     H    LS      -1  \n",
       "436570     Lava Hot     g     C    ja       0  \n",
       "272426         Cold     a     T    CN       0  \n",
       "64564      Lava Hot     g     C    uW      -1  \n",
       "325780         Warm     h     U    us      -1  \n",
       "480738  Boiling Hot     h     Q    kv       1  "
      ]
     },
     "execution_count": 14,
     "metadata": {},
     "output_type": "execute_result"
    }
   ],
   "source": [
    "data = pd.concat([train_categorical_df ,test_categorical_df])\n",
    "data.shape\n",
    "data.sample(10)"
   ]
  },
  {
   "cell_type": "code",
   "execution_count": 15,
   "metadata": {},
   "outputs": [],
   "source": [
    "for cat_col in categorical_columns:\n",
    "    label_encoder = preprocessing.LabelEncoder()\n",
    "    data[cat_col] = label_encoder.fit_transform(data[cat_col])"
   ]
  },
  {
   "cell_type": "code",
   "execution_count": 16,
   "metadata": {},
   "outputs": [
    {
     "data": {
      "text/html": [
       "<div>\n",
       "<style scoped>\n",
       "    .dataframe tbody tr th:only-of-type {\n",
       "        vertical-align: middle;\n",
       "    }\n",
       "\n",
       "    .dataframe tbody tr th {\n",
       "        vertical-align: top;\n",
       "    }\n",
       "\n",
       "    .dataframe thead th {\n",
       "        text-align: right;\n",
       "    }\n",
       "</style>\n",
       "<table border=\"1\" class=\"dataframe\">\n",
       "  <thead>\n",
       "    <tr style=\"text-align: right;\">\n",
       "      <th></th>\n",
       "      <th>bin_3</th>\n",
       "      <th>bin_4</th>\n",
       "      <th>nom_0</th>\n",
       "      <th>nom_1</th>\n",
       "      <th>nom_2</th>\n",
       "      <th>nom_3</th>\n",
       "      <th>nom_4</th>\n",
       "      <th>nom_5</th>\n",
       "      <th>nom_6</th>\n",
       "      <th>nom_7</th>\n",
       "      <th>nom_8</th>\n",
       "      <th>nom_9</th>\n",
       "      <th>ord_1</th>\n",
       "      <th>ord_2</th>\n",
       "      <th>ord_3</th>\n",
       "      <th>ord_4</th>\n",
       "      <th>ord_5</th>\n",
       "      <th>target</th>\n",
       "    </tr>\n",
       "  </thead>\n",
       "  <tbody>\n",
       "    <tr>\n",
       "      <th>0</th>\n",
       "      <td>0</td>\n",
       "      <td>0</td>\n",
       "      <td>2</td>\n",
       "      <td>4</td>\n",
       "      <td>3</td>\n",
       "      <td>5</td>\n",
       "      <td>0</td>\n",
       "      <td>1059</td>\n",
       "      <td>1013</td>\n",
       "      <td>87</td>\n",
       "      <td>1</td>\n",
       "      <td>27</td>\n",
       "      <td>0</td>\n",
       "      <td>3</td>\n",
       "      <td>2</td>\n",
       "      <td>20</td>\n",
       "      <td>56</td>\n",
       "      <td>0</td>\n",
       "    </tr>\n",
       "    <tr>\n",
       "      <th>1</th>\n",
       "      <td>0</td>\n",
       "      <td>1</td>\n",
       "      <td>2</td>\n",
       "      <td>3</td>\n",
       "      <td>0</td>\n",
       "      <td>6</td>\n",
       "      <td>3</td>\n",
       "      <td>210</td>\n",
       "      <td>359</td>\n",
       "      <td>27</td>\n",
       "      <td>69</td>\n",
       "      <td>2112</td>\n",
       "      <td>2</td>\n",
       "      <td>5</td>\n",
       "      <td>4</td>\n",
       "      <td>23</td>\n",
       "      <td>150</td>\n",
       "      <td>0</td>\n",
       "    </tr>\n",
       "    <tr>\n",
       "      <th>2</th>\n",
       "      <td>0</td>\n",
       "      <td>0</td>\n",
       "      <td>2</td>\n",
       "      <td>6</td>\n",
       "      <td>3</td>\n",
       "      <td>0</td>\n",
       "      <td>0</td>\n",
       "      <td>860</td>\n",
       "      <td>694</td>\n",
       "      <td>90</td>\n",
       "      <td>102</td>\n",
       "      <td>2218</td>\n",
       "      <td>5</td>\n",
       "      <td>2</td>\n",
       "      <td>13</td>\n",
       "      <td>15</td>\n",
       "      <td>105</td>\n",
       "      <td>0</td>\n",
       "    </tr>\n",
       "    <tr>\n",
       "      <th>3</th>\n",
       "      <td>0</td>\n",
       "      <td>0</td>\n",
       "      <td>2</td>\n",
       "      <td>0</td>\n",
       "      <td>3</td>\n",
       "      <td>3</td>\n",
       "      <td>3</td>\n",
       "      <td>477</td>\n",
       "      <td>241</td>\n",
       "      <td>51</td>\n",
       "      <td>170</td>\n",
       "      <td>2167</td>\n",
       "      <td>4</td>\n",
       "      <td>4</td>\n",
       "      <td>0</td>\n",
       "      <td>2</td>\n",
       "      <td>190</td>\n",
       "      <td>0</td>\n",
       "    </tr>\n",
       "    <tr>\n",
       "      <th>4</th>\n",
       "      <td>1</td>\n",
       "      <td>0</td>\n",
       "      <td>2</td>\n",
       "      <td>5</td>\n",
       "      <td>3</td>\n",
       "      <td>2</td>\n",
       "      <td>4</td>\n",
       "      <td>556</td>\n",
       "      <td>361</td>\n",
       "      <td>182</td>\n",
       "      <td>222</td>\n",
       "      <td>1747</td>\n",
       "      <td>2</td>\n",
       "      <td>1</td>\n",
       "      <td>7</td>\n",
       "      <td>2</td>\n",
       "      <td>50</td>\n",
       "      <td>0</td>\n",
       "    </tr>\n",
       "  </tbody>\n",
       "</table>\n",
       "</div>"
      ],
      "text/plain": [
       "   bin_3  bin_4  nom_0  nom_1  nom_2  nom_3  nom_4  nom_5  nom_6  nom_7   \n",
       "0      0      0      2      4      3      5      0   1059   1013     87  \\\n",
       "1      0      1      2      3      0      6      3    210    359     27   \n",
       "2      0      0      2      6      3      0      0    860    694     90   \n",
       "3      0      0      2      0      3      3      3    477    241     51   \n",
       "4      1      0      2      5      3      2      4    556    361    182   \n",
       "\n",
       "   nom_8  nom_9  ord_1  ord_2  ord_3  ord_4  ord_5  target  \n",
       "0      1     27      0      3      2     20     56       0  \n",
       "1     69   2112      2      5      4     23    150       0  \n",
       "2    102   2218      5      2     13     15    105       0  \n",
       "3    170   2167      4      4      0      2    190       0  \n",
       "4    222   1747      2      1      7      2     50       0  "
      ]
     },
     "execution_count": 16,
     "metadata": {},
     "output_type": "execute_result"
    }
   ],
   "source": [
    "data.head()"
   ]
  },
  {
   "cell_type": "code",
   "execution_count": 17,
   "metadata": {},
   "outputs": [],
   "source": [
    "# train_categorical_df.target==1"
   ]
  },
  {
   "cell_type": "code",
   "execution_count": 18,
   "metadata": {},
   "outputs": [
    {
     "data": {
      "text/html": [
       "<div>\n",
       "<style scoped>\n",
       "    .dataframe tbody tr th:only-of-type {\n",
       "        vertical-align: middle;\n",
       "    }\n",
       "\n",
       "    .dataframe tbody tr th {\n",
       "        vertical-align: top;\n",
       "    }\n",
       "\n",
       "    .dataframe thead th {\n",
       "        text-align: right;\n",
       "    }\n",
       "</style>\n",
       "<table border=\"1\" class=\"dataframe\">\n",
       "  <thead>\n",
       "    <tr style=\"text-align: right;\">\n",
       "      <th></th>\n",
       "      <th>bin_3</th>\n",
       "      <th>bin_4</th>\n",
       "      <th>nom_0</th>\n",
       "      <th>nom_1</th>\n",
       "      <th>nom_2</th>\n",
       "      <th>nom_3</th>\n",
       "      <th>nom_4</th>\n",
       "      <th>nom_5</th>\n",
       "      <th>nom_6</th>\n",
       "      <th>nom_7</th>\n",
       "      <th>nom_8</th>\n",
       "      <th>nom_9</th>\n",
       "      <th>ord_1</th>\n",
       "      <th>ord_2</th>\n",
       "      <th>ord_3</th>\n",
       "      <th>ord_4</th>\n",
       "      <th>ord_5</th>\n",
       "      <th>target</th>\n",
       "    </tr>\n",
       "  </thead>\n",
       "  <tbody>\n",
       "    <tr>\n",
       "      <th>0</th>\n",
       "      <td>F</td>\n",
       "      <td>N</td>\n",
       "      <td>Red</td>\n",
       "      <td>Trapezoid</td>\n",
       "      <td>Hamster</td>\n",
       "      <td>Russia</td>\n",
       "      <td>Bassoon</td>\n",
       "      <td>de4c57ee2</td>\n",
       "      <td>a64bc7ddf</td>\n",
       "      <td>598080a91</td>\n",
       "      <td>0256c7a4b</td>\n",
       "      <td>02e7c8990</td>\n",
       "      <td>Contributor</td>\n",
       "      <td>Hot</td>\n",
       "      <td>c</td>\n",
       "      <td>U</td>\n",
       "      <td>Pw</td>\n",
       "      <td>0</td>\n",
       "    </tr>\n",
       "    <tr>\n",
       "      <th>1</th>\n",
       "      <td>F</td>\n",
       "      <td>Y</td>\n",
       "      <td>Red</td>\n",
       "      <td>Star</td>\n",
       "      <td>Axolotl</td>\n",
       "      <td>NaN</td>\n",
       "      <td>Theremin</td>\n",
       "      <td>2bb3c3e5c</td>\n",
       "      <td>3a3a936e8</td>\n",
       "      <td>1dddb8473</td>\n",
       "      <td>52ead350c</td>\n",
       "      <td>f37df64af</td>\n",
       "      <td>Grandmaster</td>\n",
       "      <td>Warm</td>\n",
       "      <td>e</td>\n",
       "      <td>X</td>\n",
       "      <td>pE</td>\n",
       "      <td>0</td>\n",
       "    </tr>\n",
       "    <tr>\n",
       "      <th>2</th>\n",
       "      <td>F</td>\n",
       "      <td>N</td>\n",
       "      <td>Red</td>\n",
       "      <td>NaN</td>\n",
       "      <td>Hamster</td>\n",
       "      <td>Canada</td>\n",
       "      <td>Bassoon</td>\n",
       "      <td>b574c9841</td>\n",
       "      <td>708248125</td>\n",
       "      <td>5ddc9a726</td>\n",
       "      <td>745b909d1</td>\n",
       "      <td>NaN</td>\n",
       "      <td>NaN</td>\n",
       "      <td>Freezing</td>\n",
       "      <td>n</td>\n",
       "      <td>P</td>\n",
       "      <td>eN</td>\n",
       "      <td>0</td>\n",
       "    </tr>\n",
       "    <tr>\n",
       "      <th>3</th>\n",
       "      <td>F</td>\n",
       "      <td>N</td>\n",
       "      <td>Red</td>\n",
       "      <td>Circle</td>\n",
       "      <td>Hamster</td>\n",
       "      <td>Finland</td>\n",
       "      <td>Theremin</td>\n",
       "      <td>673bdf1f6</td>\n",
       "      <td>23edb8da3</td>\n",
       "      <td>3a33ef960</td>\n",
       "      <td>bdaa56dd1</td>\n",
       "      <td>f9d456e57</td>\n",
       "      <td>Novice</td>\n",
       "      <td>Lava Hot</td>\n",
       "      <td>a</td>\n",
       "      <td>C</td>\n",
       "      <td>NaN</td>\n",
       "      <td>0</td>\n",
       "    </tr>\n",
       "    <tr>\n",
       "      <th>4</th>\n",
       "      <td>T</td>\n",
       "      <td>N</td>\n",
       "      <td>Red</td>\n",
       "      <td>Triangle</td>\n",
       "      <td>Hamster</td>\n",
       "      <td>Costa Rica</td>\n",
       "      <td>NaN</td>\n",
       "      <td>777d1ac2c</td>\n",
       "      <td>3a7975e46</td>\n",
       "      <td>bc9cc2a94</td>\n",
       "      <td>NaN</td>\n",
       "      <td>c5361037c</td>\n",
       "      <td>Grandmaster</td>\n",
       "      <td>Cold</td>\n",
       "      <td>h</td>\n",
       "      <td>C</td>\n",
       "      <td>OZ</td>\n",
       "      <td>0</td>\n",
       "    </tr>\n",
       "  </tbody>\n",
       "</table>\n",
       "</div>"
      ],
      "text/plain": [
       "  bin_3 bin_4 nom_0      nom_1    nom_2       nom_3     nom_4      nom_5   \n",
       "0     F     N   Red  Trapezoid  Hamster      Russia   Bassoon  de4c57ee2  \\\n",
       "1     F     Y   Red       Star  Axolotl         NaN  Theremin  2bb3c3e5c   \n",
       "2     F     N   Red        NaN  Hamster      Canada   Bassoon  b574c9841   \n",
       "3     F     N   Red     Circle  Hamster     Finland  Theremin  673bdf1f6   \n",
       "4     T     N   Red   Triangle  Hamster  Costa Rica       NaN  777d1ac2c   \n",
       "\n",
       "       nom_6      nom_7      nom_8      nom_9        ord_1     ord_2 ord_3   \n",
       "0  a64bc7ddf  598080a91  0256c7a4b  02e7c8990  Contributor       Hot     c  \\\n",
       "1  3a3a936e8  1dddb8473  52ead350c  f37df64af  Grandmaster      Warm     e   \n",
       "2  708248125  5ddc9a726  745b909d1        NaN          NaN  Freezing     n   \n",
       "3  23edb8da3  3a33ef960  bdaa56dd1  f9d456e57       Novice  Lava Hot     a   \n",
       "4  3a7975e46  bc9cc2a94        NaN  c5361037c  Grandmaster      Cold     h   \n",
       "\n",
       "  ord_4 ord_5  target  \n",
       "0     U    Pw       0  \n",
       "1     X    pE       0  \n",
       "2     P    eN       0  \n",
       "3     C   NaN       0  \n",
       "4     C    OZ       0  "
      ]
     },
     "execution_count": 18,
     "metadata": {},
     "output_type": "execute_result"
    }
   ],
   "source": [
    "train_categorical_df.head()"
   ]
  },
  {
   "cell_type": "code",
   "execution_count": 19,
   "metadata": {},
   "outputs": [],
   "source": [
    "# train_categorical_df.loc[:, train_categorical_df.target==1]"
   ]
  },
  {
   "cell_type": "code",
   "execution_count": 20,
   "metadata": {},
   "outputs": [],
   "source": [
    "train_categorical_df = data.loc[data.target!=-1, :]\n",
    "test_categorical_df = data.loc[data.target==-1, :]"
   ]
  },
  {
   "cell_type": "code",
   "execution_count": 21,
   "metadata": {},
   "outputs": [
    {
     "data": {
      "text/plain": [
       "(600000, 18)"
      ]
     },
     "execution_count": 21,
     "metadata": {},
     "output_type": "execute_result"
    },
    {
     "data": {
      "text/html": [
       "<div>\n",
       "<style scoped>\n",
       "    .dataframe tbody tr th:only-of-type {\n",
       "        vertical-align: middle;\n",
       "    }\n",
       "\n",
       "    .dataframe tbody tr th {\n",
       "        vertical-align: top;\n",
       "    }\n",
       "\n",
       "    .dataframe thead th {\n",
       "        text-align: right;\n",
       "    }\n",
       "</style>\n",
       "<table border=\"1\" class=\"dataframe\">\n",
       "  <thead>\n",
       "    <tr style=\"text-align: right;\">\n",
       "      <th></th>\n",
       "      <th>bin_3</th>\n",
       "      <th>bin_4</th>\n",
       "      <th>nom_0</th>\n",
       "      <th>nom_1</th>\n",
       "      <th>nom_2</th>\n",
       "      <th>nom_3</th>\n",
       "      <th>nom_4</th>\n",
       "      <th>nom_5</th>\n",
       "      <th>nom_6</th>\n",
       "      <th>nom_7</th>\n",
       "      <th>nom_8</th>\n",
       "      <th>nom_9</th>\n",
       "      <th>ord_1</th>\n",
       "      <th>ord_2</th>\n",
       "      <th>ord_3</th>\n",
       "      <th>ord_4</th>\n",
       "      <th>ord_5</th>\n",
       "      <th>target</th>\n",
       "    </tr>\n",
       "  </thead>\n",
       "  <tbody>\n",
       "    <tr>\n",
       "      <th>0</th>\n",
       "      <td>0</td>\n",
       "      <td>0</td>\n",
       "      <td>2</td>\n",
       "      <td>4</td>\n",
       "      <td>3</td>\n",
       "      <td>5</td>\n",
       "      <td>0</td>\n",
       "      <td>1059</td>\n",
       "      <td>1013</td>\n",
       "      <td>87</td>\n",
       "      <td>1</td>\n",
       "      <td>27</td>\n",
       "      <td>0</td>\n",
       "      <td>3</td>\n",
       "      <td>2</td>\n",
       "      <td>20</td>\n",
       "      <td>56</td>\n",
       "      <td>0</td>\n",
       "    </tr>\n",
       "    <tr>\n",
       "      <th>1</th>\n",
       "      <td>0</td>\n",
       "      <td>1</td>\n",
       "      <td>2</td>\n",
       "      <td>3</td>\n",
       "      <td>0</td>\n",
       "      <td>6</td>\n",
       "      <td>3</td>\n",
       "      <td>210</td>\n",
       "      <td>359</td>\n",
       "      <td>27</td>\n",
       "      <td>69</td>\n",
       "      <td>2112</td>\n",
       "      <td>2</td>\n",
       "      <td>5</td>\n",
       "      <td>4</td>\n",
       "      <td>23</td>\n",
       "      <td>150</td>\n",
       "      <td>0</td>\n",
       "    </tr>\n",
       "    <tr>\n",
       "      <th>2</th>\n",
       "      <td>0</td>\n",
       "      <td>0</td>\n",
       "      <td>2</td>\n",
       "      <td>6</td>\n",
       "      <td>3</td>\n",
       "      <td>0</td>\n",
       "      <td>0</td>\n",
       "      <td>860</td>\n",
       "      <td>694</td>\n",
       "      <td>90</td>\n",
       "      <td>102</td>\n",
       "      <td>2218</td>\n",
       "      <td>5</td>\n",
       "      <td>2</td>\n",
       "      <td>13</td>\n",
       "      <td>15</td>\n",
       "      <td>105</td>\n",
       "      <td>0</td>\n",
       "    </tr>\n",
       "    <tr>\n",
       "      <th>3</th>\n",
       "      <td>0</td>\n",
       "      <td>0</td>\n",
       "      <td>2</td>\n",
       "      <td>0</td>\n",
       "      <td>3</td>\n",
       "      <td>3</td>\n",
       "      <td>3</td>\n",
       "      <td>477</td>\n",
       "      <td>241</td>\n",
       "      <td>51</td>\n",
       "      <td>170</td>\n",
       "      <td>2167</td>\n",
       "      <td>4</td>\n",
       "      <td>4</td>\n",
       "      <td>0</td>\n",
       "      <td>2</td>\n",
       "      <td>190</td>\n",
       "      <td>0</td>\n",
       "    </tr>\n",
       "    <tr>\n",
       "      <th>4</th>\n",
       "      <td>1</td>\n",
       "      <td>0</td>\n",
       "      <td>2</td>\n",
       "      <td>5</td>\n",
       "      <td>3</td>\n",
       "      <td>2</td>\n",
       "      <td>4</td>\n",
       "      <td>556</td>\n",
       "      <td>361</td>\n",
       "      <td>182</td>\n",
       "      <td>222</td>\n",
       "      <td>1747</td>\n",
       "      <td>2</td>\n",
       "      <td>1</td>\n",
       "      <td>7</td>\n",
       "      <td>2</td>\n",
       "      <td>50</td>\n",
       "      <td>0</td>\n",
       "    </tr>\n",
       "  </tbody>\n",
       "</table>\n",
       "</div>"
      ],
      "text/plain": [
       "   bin_3  bin_4  nom_0  nom_1  nom_2  nom_3  nom_4  nom_5  nom_6  nom_7   \n",
       "0      0      0      2      4      3      5      0   1059   1013     87  \\\n",
       "1      0      1      2      3      0      6      3    210    359     27   \n",
       "2      0      0      2      6      3      0      0    860    694     90   \n",
       "3      0      0      2      0      3      3      3    477    241     51   \n",
       "4      1      0      2      5      3      2      4    556    361    182   \n",
       "\n",
       "   nom_8  nom_9  ord_1  ord_2  ord_3  ord_4  ord_5  target  \n",
       "0      1     27      0      3      2     20     56       0  \n",
       "1     69   2112      2      5      4     23    150       0  \n",
       "2    102   2218      5      2     13     15    105       0  \n",
       "3    170   2167      4      4      0      2    190       0  \n",
       "4    222   1747      2      1      7      2     50       0  "
      ]
     },
     "execution_count": 21,
     "metadata": {},
     "output_type": "execute_result"
    },
    {
     "data": {
      "text/plain": [
       "(400000, 18)"
      ]
     },
     "execution_count": 21,
     "metadata": {},
     "output_type": "execute_result"
    },
    {
     "data": {
      "text/html": [
       "<div>\n",
       "<style scoped>\n",
       "    .dataframe tbody tr th:only-of-type {\n",
       "        vertical-align: middle;\n",
       "    }\n",
       "\n",
       "    .dataframe tbody tr th {\n",
       "        vertical-align: top;\n",
       "    }\n",
       "\n",
       "    .dataframe thead th {\n",
       "        text-align: right;\n",
       "    }\n",
       "</style>\n",
       "<table border=\"1\" class=\"dataframe\">\n",
       "  <thead>\n",
       "    <tr style=\"text-align: right;\">\n",
       "      <th></th>\n",
       "      <th>bin_3</th>\n",
       "      <th>bin_4</th>\n",
       "      <th>nom_0</th>\n",
       "      <th>nom_1</th>\n",
       "      <th>nom_2</th>\n",
       "      <th>nom_3</th>\n",
       "      <th>nom_4</th>\n",
       "      <th>nom_5</th>\n",
       "      <th>nom_6</th>\n",
       "      <th>nom_7</th>\n",
       "      <th>nom_8</th>\n",
       "      <th>nom_9</th>\n",
       "      <th>ord_1</th>\n",
       "      <th>ord_2</th>\n",
       "      <th>ord_3</th>\n",
       "      <th>ord_4</th>\n",
       "      <th>ord_5</th>\n",
       "      <th>target</th>\n",
       "    </tr>\n",
       "  </thead>\n",
       "  <tbody>\n",
       "    <tr>\n",
       "      <th>0</th>\n",
       "      <td>0</td>\n",
       "      <td>1</td>\n",
       "      <td>0</td>\n",
       "      <td>1</td>\n",
       "      <td>0</td>\n",
       "      <td>3</td>\n",
       "      <td>2</td>\n",
       "      <td>372</td>\n",
       "      <td>147</td>\n",
       "      <td>140</td>\n",
       "      <td>174</td>\n",
       "      <td>2196</td>\n",
       "      <td>4</td>\n",
       "      <td>0</td>\n",
       "      <td>5</td>\n",
       "      <td>20</td>\n",
       "      <td>146</td>\n",
       "      <td>-1</td>\n",
       "    </tr>\n",
       "    <tr>\n",
       "      <th>1</th>\n",
       "      <td>0</td>\n",
       "      <td>1</td>\n",
       "      <td>2</td>\n",
       "      <td>0</td>\n",
       "      <td>4</td>\n",
       "      <td>5</td>\n",
       "      <td>0</td>\n",
       "      <td>484</td>\n",
       "      <td>837</td>\n",
       "      <td>97</td>\n",
       "      <td>4</td>\n",
       "      <td>1107</td>\n",
       "      <td>4</td>\n",
       "      <td>1</td>\n",
       "      <td>13</td>\n",
       "      <td>13</td>\n",
       "      <td>190</td>\n",
       "      <td>-1</td>\n",
       "    </tr>\n",
       "    <tr>\n",
       "      <th>2</th>\n",
       "      <td>0</td>\n",
       "      <td>1</td>\n",
       "      <td>0</td>\n",
       "      <td>0</td>\n",
       "      <td>0</td>\n",
       "      <td>5</td>\n",
       "      <td>3</td>\n",
       "      <td>611</td>\n",
       "      <td>676</td>\n",
       "      <td>101</td>\n",
       "      <td>16</td>\n",
       "      <td>812</td>\n",
       "      <td>1</td>\n",
       "      <td>5</td>\n",
       "      <td>8</td>\n",
       "      <td>13</td>\n",
       "      <td>12</td>\n",
       "      <td>-1</td>\n",
       "    </tr>\n",
       "    <tr>\n",
       "      <th>3</th>\n",
       "      <td>0</td>\n",
       "      <td>0</td>\n",
       "      <td>2</td>\n",
       "      <td>1</td>\n",
       "      <td>0</td>\n",
       "      <td>2</td>\n",
       "      <td>0</td>\n",
       "      <td>966</td>\n",
       "      <td>1048</td>\n",
       "      <td>189</td>\n",
       "      <td>107</td>\n",
       "      <td>996</td>\n",
       "      <td>1</td>\n",
       "      <td>3</td>\n",
       "      <td>12</td>\n",
       "      <td>1</td>\n",
       "      <td>0</td>\n",
       "      <td>-1</td>\n",
       "    </tr>\n",
       "    <tr>\n",
       "      <th>4</th>\n",
       "      <td>0</td>\n",
       "      <td>1</td>\n",
       "      <td>2</td>\n",
       "      <td>0</td>\n",
       "      <td>6</td>\n",
       "      <td>3</td>\n",
       "      <td>3</td>\n",
       "      <td>1156</td>\n",
       "      <td>685</td>\n",
       "      <td>190</td>\n",
       "      <td>30</td>\n",
       "      <td>371</td>\n",
       "      <td>0</td>\n",
       "      <td>4</td>\n",
       "      <td>14</td>\n",
       "      <td>9</td>\n",
       "      <td>14</td>\n",
       "      <td>-1</td>\n",
       "    </tr>\n",
       "  </tbody>\n",
       "</table>\n",
       "</div>"
      ],
      "text/plain": [
       "   bin_3  bin_4  nom_0  nom_1  nom_2  nom_3  nom_4  nom_5  nom_6  nom_7   \n",
       "0      0      1      0      1      0      3      2    372    147    140  \\\n",
       "1      0      1      2      0      4      5      0    484    837     97   \n",
       "2      0      1      0      0      0      5      3    611    676    101   \n",
       "3      0      0      2      1      0      2      0    966   1048    189   \n",
       "4      0      1      2      0      6      3      3   1156    685    190   \n",
       "\n",
       "   nom_8  nom_9  ord_1  ord_2  ord_3  ord_4  ord_5  target  \n",
       "0    174   2196      4      0      5     20    146      -1  \n",
       "1      4   1107      4      1     13     13    190      -1  \n",
       "2     16    812      1      5      8     13     12      -1  \n",
       "3    107    996      1      3     12      1      0      -1  \n",
       "4     30    371      0      4     14      9     14      -1  "
      ]
     },
     "execution_count": 21,
     "metadata": {},
     "output_type": "execute_result"
    }
   ],
   "source": [
    "train_categorical_df.shape\n",
    "train_categorical_df.head()\n",
    "\n",
    "test_categorical_df.shape\n",
    "test_categorical_df.head()"
   ]
  },
  {
   "cell_type": "code",
   "execution_count": 22,
   "metadata": {},
   "outputs": [
    {
     "data": {
      "text/plain": [
       "['bin_3',\n",
       " 'bin_4',\n",
       " 'nom_0',\n",
       " 'nom_1',\n",
       " 'nom_2',\n",
       " 'nom_3',\n",
       " 'nom_4',\n",
       " 'nom_5',\n",
       " 'nom_6',\n",
       " 'nom_7',\n",
       " 'nom_8',\n",
       " 'nom_9',\n",
       " 'ord_1',\n",
       " 'ord_2',\n",
       " 'ord_3',\n",
       " 'ord_4',\n",
       " 'ord_5']"
      ]
     },
     "execution_count": 22,
     "metadata": {},
     "output_type": "execute_result"
    }
   ],
   "source": [
    "categorical_columns"
   ]
  },
  {
   "attachments": {},
   "cell_type": "markdown",
   "metadata": {},
   "source": [
    "## Test on fewer categorical columns"
   ]
  },
  {
   "cell_type": "code",
   "execution_count": 23,
   "metadata": {},
   "outputs": [
    {
     "data": {
      "text/html": [
       "<div>\n",
       "<style scoped>\n",
       "    .dataframe tbody tr th:only-of-type {\n",
       "        vertical-align: middle;\n",
       "    }\n",
       "\n",
       "    .dataframe tbody tr th {\n",
       "        vertical-align: top;\n",
       "    }\n",
       "\n",
       "    .dataframe thead th {\n",
       "        text-align: right;\n",
       "    }\n",
       "</style>\n",
       "<table border=\"1\" class=\"dataframe\">\n",
       "  <thead>\n",
       "    <tr style=\"text-align: right;\">\n",
       "      <th></th>\n",
       "      <th>bin_3</th>\n",
       "      <th>bin_4</th>\n",
       "      <th>target</th>\n",
       "    </tr>\n",
       "  </thead>\n",
       "  <tbody>\n",
       "    <tr>\n",
       "      <th>0</th>\n",
       "      <td>0</td>\n",
       "      <td>0</td>\n",
       "      <td>0</td>\n",
       "    </tr>\n",
       "    <tr>\n",
       "      <th>1</th>\n",
       "      <td>0</td>\n",
       "      <td>1</td>\n",
       "      <td>0</td>\n",
       "    </tr>\n",
       "    <tr>\n",
       "      <th>2</th>\n",
       "      <td>0</td>\n",
       "      <td>0</td>\n",
       "      <td>0</td>\n",
       "    </tr>\n",
       "    <tr>\n",
       "      <th>3</th>\n",
       "      <td>0</td>\n",
       "      <td>0</td>\n",
       "      <td>0</td>\n",
       "    </tr>\n",
       "    <tr>\n",
       "      <th>4</th>\n",
       "      <td>1</td>\n",
       "      <td>0</td>\n",
       "      <td>0</td>\n",
       "    </tr>\n",
       "  </tbody>\n",
       "</table>\n",
       "</div>"
      ],
      "text/plain": [
       "   bin_3  bin_4  target\n",
       "0      0      0       0\n",
       "1      0      1       0\n",
       "2      0      0       0\n",
       "3      0      0       0\n",
       "4      1      0       0"
      ]
     },
     "execution_count": 23,
     "metadata": {},
     "output_type": "execute_result"
    },
    {
     "data": {
      "text/html": [
       "<div>\n",
       "<style scoped>\n",
       "    .dataframe tbody tr th:only-of-type {\n",
       "        vertical-align: middle;\n",
       "    }\n",
       "\n",
       "    .dataframe tbody tr th {\n",
       "        vertical-align: top;\n",
       "    }\n",
       "\n",
       "    .dataframe thead th {\n",
       "        text-align: right;\n",
       "    }\n",
       "</style>\n",
       "<table border=\"1\" class=\"dataframe\">\n",
       "  <thead>\n",
       "    <tr style=\"text-align: right;\">\n",
       "      <th></th>\n",
       "      <th>bin_3</th>\n",
       "      <th>bin_4</th>\n",
       "      <th>target</th>\n",
       "    </tr>\n",
       "  </thead>\n",
       "  <tbody>\n",
       "    <tr>\n",
       "      <th>0</th>\n",
       "      <td>0</td>\n",
       "      <td>1</td>\n",
       "      <td>-1</td>\n",
       "    </tr>\n",
       "    <tr>\n",
       "      <th>1</th>\n",
       "      <td>0</td>\n",
       "      <td>1</td>\n",
       "      <td>-1</td>\n",
       "    </tr>\n",
       "    <tr>\n",
       "      <th>2</th>\n",
       "      <td>0</td>\n",
       "      <td>1</td>\n",
       "      <td>-1</td>\n",
       "    </tr>\n",
       "    <tr>\n",
       "      <th>3</th>\n",
       "      <td>0</td>\n",
       "      <td>0</td>\n",
       "      <td>-1</td>\n",
       "    </tr>\n",
       "    <tr>\n",
       "      <th>4</th>\n",
       "      <td>0</td>\n",
       "      <td>1</td>\n",
       "      <td>-1</td>\n",
       "    </tr>\n",
       "  </tbody>\n",
       "</table>\n",
       "</div>"
      ],
      "text/plain": [
       "   bin_3  bin_4  target\n",
       "0      0      1      -1\n",
       "1      0      1      -1\n",
       "2      0      1      -1\n",
       "3      0      0      -1\n",
       "4      0      1      -1"
      ]
     },
     "execution_count": 23,
     "metadata": {},
     "output_type": "execute_result"
    }
   ],
   "source": [
    "train_catg_df = train_categorical_df.loc[:, ['bin_3', 'bin_4', 'target']]\n",
    "test_catg_df = test_categorical_df.loc[:, ['bin_3', 'bin_4', 'target']]\n",
    "\n",
    "train_catg_df.head()\n",
    "test_catg_df.head()"
   ]
  },
  {
   "cell_type": "code",
   "execution_count": 28,
   "metadata": {},
   "outputs": [
    {
     "data": {
      "text/plain": [
       "bin_3\n",
       "0    366212\n",
       "1    215774\n",
       "2     18014\n",
       "Name: count, dtype: int64"
      ]
     },
     "execution_count": 28,
     "metadata": {},
     "output_type": "execute_result"
    },
    {
     "data": {
      "text/plain": [
       "bin_4\n",
       "0    312344\n",
       "1    269609\n",
       "2     18047\n",
       "Name: count, dtype: int64"
      ]
     },
     "execution_count": 28,
     "metadata": {},
     "output_type": "execute_result"
    },
    {
     "data": {
      "text/plain": [
       "target\n",
       "0    487677\n",
       "1    112323\n",
       "Name: count, dtype: int64"
      ]
     },
     "execution_count": 28,
     "metadata": {},
     "output_type": "execute_result"
    }
   ],
   "source": [
    "train_catg_df['bin_3'].value_counts()\n",
    "train_catg_df['bin_4'].value_counts()\n",
    "\n",
    "train_catg_df['target'].value_counts()"
   ]
  },
  {
   "cell_type": "code",
   "execution_count": 29,
   "metadata": {},
   "outputs": [
    {
     "data": {
      "text/plain": [
       "{'bin_3': 3, 'bin_4': 3}"
      ]
     },
     "execution_count": 29,
     "metadata": {},
     "output_type": "execute_result"
    }
   ],
   "source": [
    "num_categorical_levels = {}\n",
    "for column in ['bin_3', 'bin_4']:\n",
    "    num_categorical_levels[column] = train_catg_df[column].nunique()\n",
    "\n",
    "num_categorical_levels"
   ]
  },
  {
   "cell_type": "code",
   "execution_count": 30,
   "metadata": {},
   "outputs": [],
   "source": [
    "class CategoricalEncodingModel(nn.Module):\n",
    "    def __init__(self, num_categorical_levels, embedding_dim):\n",
    "        super(CategoricalEncodingModel, self).__init__()\n",
    "        self.embeddings_bin3 = nn.Embedding(num_categorical_levels['bin_3'], embedding_dim)\n",
    "        self.embeddings_bin4 = nn.Embedding(num_categorical_levels['bin_4'], embedding_dim)\n",
    "        self.num_embs = 2*embedding_dim\n",
    "\n",
    "        self.linear1 = nn.Linear(in_features=self.num_embs, out_features=32)\n",
    "        self.linear2 = nn.Linear(in_features=32, out_features=1)\n",
    "\n",
    "    def forward(self, cat_data_input):\n",
    "        embs1 = self.embeddings_bin3(cat_data_input[0]).view(1, -1)\n",
    "        embs2 = self.embeddings_bin4(cat_data_input[1]).view(1, -1)\n",
    "        embs_cat = torch.cat((embs1, embs2), 1)\n",
    "        out = self.linear1(embs_cat)\n",
    "        out = self.linear2(out)\n",
    "\n",
    "        return out"
   ]
  },
  {
   "cell_type": "code",
   "execution_count": 31,
   "metadata": {},
   "outputs": [
    {
     "data": {
      "text/plain": [
       "CategoricalEncodingModel(\n",
       "  (embeddings_bin3): Embedding(3, 10)\n",
       "  (embeddings_bin4): Embedding(3, 10)\n",
       "  (linear1): Linear(in_features=20, out_features=32, bias=True)\n",
       "  (linear2): Linear(in_features=32, out_features=1, bias=True)\n",
       ")"
      ]
     },
     "execution_count": 31,
     "metadata": {},
     "output_type": "execute_result"
    }
   ],
   "source": [
    "catg_enc_model = CategoricalEncodingModel(num_categorical_levels=num_categorical_levels, embedding_dim=10)\n",
    "catg_enc_model"
   ]
  },
  {
   "cell_type": "code",
   "execution_count": 33,
   "metadata": {},
   "outputs": [
    {
     "data": {
      "text/html": [
       "<div>\n",
       "<style scoped>\n",
       "    .dataframe tbody tr th:only-of-type {\n",
       "        vertical-align: middle;\n",
       "    }\n",
       "\n",
       "    .dataframe tbody tr th {\n",
       "        vertical-align: top;\n",
       "    }\n",
       "\n",
       "    .dataframe thead th {\n",
       "        text-align: right;\n",
       "    }\n",
       "</style>\n",
       "<table border=\"1\" class=\"dataframe\">\n",
       "  <thead>\n",
       "    <tr style=\"text-align: right;\">\n",
       "      <th></th>\n",
       "      <th>bin_3</th>\n",
       "      <th>bin_4</th>\n",
       "      <th>target</th>\n",
       "    </tr>\n",
       "  </thead>\n",
       "  <tbody>\n",
       "    <tr>\n",
       "      <th>0</th>\n",
       "      <td>0</td>\n",
       "      <td>0</td>\n",
       "      <td>0</td>\n",
       "    </tr>\n",
       "    <tr>\n",
       "      <th>1</th>\n",
       "      <td>0</td>\n",
       "      <td>1</td>\n",
       "      <td>0</td>\n",
       "    </tr>\n",
       "    <tr>\n",
       "      <th>2</th>\n",
       "      <td>0</td>\n",
       "      <td>0</td>\n",
       "      <td>0</td>\n",
       "    </tr>\n",
       "    <tr>\n",
       "      <th>3</th>\n",
       "      <td>0</td>\n",
       "      <td>0</td>\n",
       "      <td>0</td>\n",
       "    </tr>\n",
       "    <tr>\n",
       "      <th>4</th>\n",
       "      <td>1</td>\n",
       "      <td>0</td>\n",
       "      <td>0</td>\n",
       "    </tr>\n",
       "  </tbody>\n",
       "</table>\n",
       "</div>"
      ],
      "text/plain": [
       "   bin_3  bin_4  target\n",
       "0      0      0       0\n",
       "1      0      1       0\n",
       "2      0      0       0\n",
       "3      0      0       0\n",
       "4      1      0       0"
      ]
     },
     "execution_count": 33,
     "metadata": {},
     "output_type": "execute_result"
    },
    {
     "data": {
      "text/plain": [
       "tensor([0, 0])"
      ]
     },
     "execution_count": 33,
     "metadata": {},
     "output_type": "execute_result"
    }
   ],
   "source": [
    "train_catg_df.head()\n",
    "example_cat_data_input = torch.tensor([0, 0], dtype=torch.long)\n",
    "example_cat_data_input"
   ]
  },
  {
   "cell_type": "code",
   "execution_count": 34,
   "metadata": {},
   "outputs": [
    {
     "data": {
      "text/plain": [
       "tensor([[-0.0069]], grad_fn=<AddmmBackward0>)"
      ]
     },
     "execution_count": 34,
     "metadata": {},
     "output_type": "execute_result"
    }
   ],
   "source": [
    "logits = catg_enc_model(example_cat_data_input)\n",
    "logits"
   ]
  },
  {
   "cell_type": "code",
   "execution_count": 37,
   "metadata": {},
   "outputs": [
    {
     "data": {
      "text/plain": [
       "OrderedDict([('embeddings_bin3.weight',\n",
       "              tensor([[-8.1448e-01, -9.1669e-01,  5.4252e-01,  1.3378e+00, -7.1273e-02,\n",
       "                       -1.6469e+00,  8.4098e-01, -3.1005e-01,  3.3774e-01, -6.9402e-01],\n",
       "                      [-3.8391e-01,  3.4689e-01,  2.5516e+00, -8.0720e-01, -5.7014e-01,\n",
       "                        5.3846e-01,  9.1875e-01, -1.1020e+00,  1.5297e+00, -2.6117e-01],\n",
       "                      [-6.1215e-04,  1.5526e+00,  7.9828e-01, -1.8805e-01,  9.7693e-02,\n",
       "                        9.9620e-01, -1.3022e+00, -1.2149e+00,  1.7847e-01,  6.9572e-01]])),\n",
       "             ('embeddings_bin4.weight',\n",
       "              tensor([[-1.0255,  1.1686, -0.3779,  0.0142, -0.6414,  0.8768,  1.4545,  0.0372,\n",
       "                        0.5598,  0.9986],\n",
       "                      [ 0.1861,  0.4124, -0.9746,  0.4944,  0.6995, -0.6605,  0.5686,  0.3725,\n",
       "                        0.4852,  0.0848],\n",
       "                      [ 0.2620, -0.9102,  1.0681, -0.9493, -0.7222, -0.3138,  1.2276, -0.5929,\n",
       "                       -0.3364, -0.0321]])),\n",
       "             ('linear1.weight',\n",
       "              tensor([[ 0.0943,  0.1265,  0.1711,  0.1196,  0.0954, -0.0849, -0.1247, -0.1060,\n",
       "                        0.1840, -0.0542,  0.0080, -0.2085, -0.0099, -0.0631, -0.1443,  0.1732,\n",
       "                       -0.1810, -0.0320, -0.0159, -0.2024],\n",
       "                      [ 0.1352, -0.0711,  0.1005,  0.1248,  0.1972,  0.0553,  0.1679,  0.2065,\n",
       "                        0.0443, -0.0456, -0.0612,  0.0362,  0.0805, -0.2109,  0.1675,  0.0353,\n",
       "                       -0.2083,  0.0716,  0.1419,  0.0836],\n",
       "                      [ 0.1825,  0.0046, -0.1855, -0.0005,  0.1625, -0.1076,  0.0954,  0.0515,\n",
       "                       -0.0363,  0.0016,  0.0951, -0.1530,  0.1412,  0.1514,  0.1255,  0.2234,\n",
       "                       -0.0098, -0.1579,  0.0102, -0.0649],\n",
       "                      [ 0.0789,  0.1891, -0.1224,  0.0094,  0.2175, -0.1785, -0.0386,  0.2171,\n",
       "                        0.1562,  0.0649, -0.0964, -0.0208, -0.2005, -0.2105, -0.2095,  0.2148,\n",
       "                        0.1769,  0.0887, -0.0562,  0.1925],\n",
       "                      [-0.0591,  0.1552, -0.0073, -0.1052, -0.0624, -0.0477, -0.2047,  0.0669,\n",
       "                       -0.0681,  0.1027,  0.1426, -0.0356,  0.1084,  0.0447,  0.1502, -0.1442,\n",
       "                       -0.0196, -0.0745,  0.1959, -0.2007],\n",
       "                      [-0.1257,  0.0252,  0.1985,  0.1513, -0.2092, -0.1572,  0.2168,  0.0326,\n",
       "                       -0.1915, -0.0704,  0.0978, -0.0468, -0.1718, -0.1381, -0.1158, -0.0088,\n",
       "                        0.0876,  0.1074, -0.1086, -0.0375],\n",
       "                      [-0.1726,  0.1691,  0.2231,  0.2173,  0.0914, -0.0477, -0.0056,  0.0807,\n",
       "                       -0.1938,  0.0139, -0.1818, -0.2236, -0.0075, -0.0712, -0.1416,  0.0371,\n",
       "                        0.0091,  0.0341, -0.1251, -0.2190],\n",
       "                      [ 0.0049, -0.0912, -0.0754,  0.1646,  0.0365,  0.1021, -0.0625, -0.1774,\n",
       "                        0.0446, -0.1481,  0.0277, -0.1745,  0.1686, -0.1523,  0.1941,  0.1580,\n",
       "                        0.1690,  0.1342,  0.0518, -0.0109],\n",
       "                      [-0.0036, -0.0889, -0.2055,  0.2038,  0.0116,  0.1052,  0.0082,  0.0643,\n",
       "                       -0.1378, -0.1738,  0.1705,  0.0848,  0.1104, -0.2219,  0.0151, -0.2086,\n",
       "                       -0.0256, -0.0118, -0.1573, -0.2214],\n",
       "                      [ 0.0015,  0.2011,  0.2015, -0.1361, -0.0397, -0.1870, -0.1746, -0.0613,\n",
       "                        0.2171, -0.0583,  0.0129,  0.2104,  0.0398,  0.1804,  0.1486,  0.2097,\n",
       "                        0.0383, -0.1808, -0.1924, -0.1155],\n",
       "                      [ 0.1846,  0.1286,  0.0654, -0.1703, -0.1647,  0.1824, -0.0232, -0.2226,\n",
       "                       -0.0276, -0.0537,  0.0034,  0.0936,  0.0860, -0.1711, -0.0025, -0.1108,\n",
       "                        0.1513,  0.1107,  0.1227,  0.2033],\n",
       "                      [ 0.1098, -0.2234,  0.0564, -0.1534,  0.0299,  0.0024,  0.2218, -0.1528,\n",
       "                       -0.2191, -0.0599,  0.0360,  0.1638,  0.1813,  0.1722,  0.0706, -0.0639,\n",
       "                       -0.0473, -0.1223,  0.0437, -0.1555],\n",
       "                      [ 0.0769,  0.1444,  0.1897, -0.2204,  0.1835, -0.1405, -0.0183,  0.2041,\n",
       "                        0.1212, -0.0709,  0.1320, -0.2175,  0.1748,  0.2171, -0.0102,  0.0368,\n",
       "                       -0.0525, -0.1416, -0.1011, -0.0148],\n",
       "                      [-0.1829, -0.1807,  0.0245, -0.1455, -0.1216, -0.0019, -0.1178,  0.2070,\n",
       "                       -0.0807, -0.1243, -0.0596, -0.1824,  0.1152,  0.1921, -0.1290, -0.0831,\n",
       "                        0.2087, -0.1618,  0.0606, -0.1822],\n",
       "                      [-0.1990,  0.0003, -0.1276,  0.1211, -0.0692,  0.0022, -0.1167,  0.0919,\n",
       "                        0.2072, -0.0336, -0.1380, -0.2181,  0.2143,  0.0942,  0.0923,  0.0381,\n",
       "                        0.1122,  0.0794,  0.1092,  0.1398],\n",
       "                      [ 0.0317,  0.1926,  0.1390, -0.0068, -0.0999,  0.0148,  0.1741,  0.1417,\n",
       "                       -0.0906, -0.0467,  0.0888,  0.0843,  0.2129,  0.1086,  0.0712,  0.0517,\n",
       "                       -0.2101, -0.0824,  0.0237, -0.1556],\n",
       "                      [-0.1959,  0.1509,  0.0760, -0.1804,  0.0133,  0.1317,  0.1288,  0.2042,\n",
       "                       -0.0884,  0.0996, -0.1814, -0.0276, -0.1422, -0.0426,  0.1273,  0.1115,\n",
       "                       -0.1176, -0.0554, -0.0447, -0.0851],\n",
       "                      [-0.1225,  0.1642,  0.1546,  0.1867, -0.1228,  0.1637, -0.0678, -0.0525,\n",
       "                       -0.0602, -0.0109, -0.0979,  0.0306, -0.1441,  0.0920, -0.1875, -0.0811,\n",
       "                       -0.1562,  0.1508,  0.1536, -0.1778],\n",
       "                      [-0.1220,  0.2001,  0.0652,  0.1540, -0.1714,  0.1009,  0.1423, -0.0519,\n",
       "                       -0.0103,  0.1630,  0.0610,  0.0642,  0.0007, -0.0934, -0.1369,  0.2231,\n",
       "                       -0.0177,  0.1984,  0.1830, -0.1169],\n",
       "                      [ 0.0152, -0.0572, -0.0041,  0.1474,  0.1231, -0.1270, -0.1106, -0.1589,\n",
       "                       -0.1899,  0.1434, -0.1382,  0.0029, -0.0003,  0.0383, -0.0131,  0.1160,\n",
       "                        0.0307,  0.1603,  0.0483, -0.0028],\n",
       "                      [ 0.0317,  0.1490,  0.0337,  0.1575, -0.0212,  0.0019,  0.1879, -0.2111,\n",
       "                        0.0223,  0.2042, -0.1122, -0.0412, -0.0135,  0.0737,  0.0845,  0.0507,\n",
       "                        0.0882, -0.0959,  0.0941, -0.0709],\n",
       "                      [ 0.1405, -0.0656, -0.1904,  0.0160,  0.1164, -0.0088,  0.0029,  0.0008,\n",
       "                        0.1187,  0.0175, -0.1998, -0.1595,  0.0132, -0.0180,  0.2137, -0.0526,\n",
       "                        0.1711, -0.1886, -0.2125, -0.0206],\n",
       "                      [-0.1416, -0.0652,  0.0252, -0.1940,  0.1537, -0.1357,  0.1716,  0.0731,\n",
       "                       -0.0419, -0.1957,  0.0370, -0.1249,  0.1933, -0.1881, -0.0591, -0.1232,\n",
       "                       -0.1438, -0.1166, -0.0222,  0.0151],\n",
       "                      [ 0.0379,  0.1143, -0.0913, -0.1387, -0.0471,  0.2107, -0.0273, -0.1882,\n",
       "                        0.1755,  0.0544,  0.0388,  0.0384,  0.1560, -0.1018,  0.1630,  0.2150,\n",
       "                       -0.0577,  0.1411,  0.1234,  0.2094],\n",
       "                      [-0.0520, -0.1330, -0.0830, -0.1521,  0.0077,  0.2156,  0.2169,  0.1689,\n",
       "                        0.0221,  0.0049,  0.1481,  0.1328, -0.0222, -0.0566,  0.0884, -0.0078,\n",
       "                       -0.1571, -0.1052,  0.1813,  0.1862],\n",
       "                      [-0.0871, -0.0480, -0.1108, -0.0730,  0.2038, -0.1989,  0.1067, -0.2010,\n",
       "                       -0.1067, -0.0455,  0.0155, -0.0363, -0.1022, -0.0997, -0.1360, -0.1561,\n",
       "                       -0.1393,  0.2144, -0.1054, -0.1859],\n",
       "                      [ 0.1537,  0.0868,  0.1538, -0.2224, -0.2128, -0.1587, -0.1178, -0.0005,\n",
       "                        0.0967,  0.1309, -0.1923,  0.0892, -0.1293,  0.0514,  0.0702,  0.0358,\n",
       "                        0.0791, -0.0112,  0.1476,  0.0466],\n",
       "                      [ 0.1959,  0.0485, -0.1184,  0.1436,  0.0121,  0.2161, -0.0247,  0.2212,\n",
       "                       -0.1305,  0.1124, -0.1668,  0.1535,  0.0406,  0.1270, -0.1926, -0.2224,\n",
       "                        0.1077, -0.0920,  0.0886, -0.1327],\n",
       "                      [-0.0691,  0.0010,  0.1347,  0.1263, -0.0200, -0.0632, -0.0039,  0.1152,\n",
       "                       -0.1895, -0.0683, -0.2156,  0.0323, -0.0264,  0.1267,  0.1786, -0.1912,\n",
       "                       -0.0990, -0.0359, -0.0022, -0.0510],\n",
       "                      [-0.1406, -0.0864, -0.0058,  0.1798, -0.0570,  0.1477, -0.1808,  0.0100,\n",
       "                       -0.1745, -0.2098,  0.0222, -0.1024,  0.1646,  0.1766, -0.2226, -0.0156,\n",
       "                       -0.0382, -0.1275, -0.1561, -0.0946],\n",
       "                      [ 0.0987,  0.0532,  0.1346, -0.0133,  0.1161,  0.0432, -0.0488, -0.0131,\n",
       "                       -0.2034, -0.0051, -0.0735, -0.0748, -0.0898, -0.0489, -0.1651,  0.0131,\n",
       "                       -0.0091, -0.0589,  0.1941,  0.1501],\n",
       "                      [ 0.0632, -0.0824,  0.0285, -0.1539,  0.1558,  0.2089, -0.0334,  0.1724,\n",
       "                        0.2099, -0.0134, -0.0830,  0.0113,  0.0370, -0.2070, -0.0139, -0.0808,\n",
       "                        0.1492, -0.0064,  0.1471,  0.1989]])),\n",
       "             ('linear1.bias',\n",
       "              tensor([-0.0701,  0.0481, -0.0191, -0.0974, -0.1240,  0.0052,  0.0679, -0.0393,\n",
       "                       0.0380,  0.1397,  0.0932,  0.0922,  0.0628, -0.1719, -0.1353, -0.1658,\n",
       "                       0.1469, -0.1969, -0.1669,  0.1473,  0.1322, -0.2114,  0.1292, -0.0510,\n",
       "                       0.0482, -0.1401, -0.0339,  0.0497,  0.1705,  0.1356, -0.1216, -0.1467])),\n",
       "             ('linear2.weight',\n",
       "              tensor([[-0.0108,  0.0555,  0.0969, -0.1762, -0.0144,  0.0063, -0.0826,  0.1394,\n",
       "                       -0.0469, -0.1685, -0.1055,  0.0057, -0.1316,  0.0404,  0.1720,  0.0072,\n",
       "                       -0.0435,  0.1665,  0.1305,  0.1175,  0.0134,  0.0081, -0.1371,  0.0180,\n",
       "                        0.1719,  0.0093, -0.1578,  0.0970,  0.1586,  0.1482,  0.0083,  0.0332]])),\n",
       "             ('linear2.bias', tensor([0.0286]))])"
      ]
     },
     "execution_count": 37,
     "metadata": {},
     "output_type": "execute_result"
    }
   ],
   "source": [
    "catg_enc_model.state_dict()"
   ]
  },
  {
   "cell_type": "code",
   "execution_count": 36,
   "metadata": {},
   "outputs": [
    {
     "data": {
      "text/plain": [
       "[Parameter containing:\n",
       " tensor([[-8.1448e-01, -9.1669e-01,  5.4252e-01,  1.3378e+00, -7.1273e-02,\n",
       "          -1.6469e+00,  8.4098e-01, -3.1005e-01,  3.3774e-01, -6.9402e-01],\n",
       "         [-3.8391e-01,  3.4689e-01,  2.5516e+00, -8.0720e-01, -5.7014e-01,\n",
       "           5.3846e-01,  9.1875e-01, -1.1020e+00,  1.5297e+00, -2.6117e-01],\n",
       "         [-6.1215e-04,  1.5526e+00,  7.9828e-01, -1.8805e-01,  9.7693e-02,\n",
       "           9.9620e-01, -1.3022e+00, -1.2149e+00,  1.7847e-01,  6.9572e-01]],\n",
       "        requires_grad=True),\n",
       " Parameter containing:\n",
       " tensor([[-1.0255,  1.1686, -0.3779,  0.0142, -0.6414,  0.8768,  1.4545,  0.0372,\n",
       "           0.5598,  0.9986],\n",
       "         [ 0.1861,  0.4124, -0.9746,  0.4944,  0.6995, -0.6605,  0.5686,  0.3725,\n",
       "           0.4852,  0.0848],\n",
       "         [ 0.2620, -0.9102,  1.0681, -0.9493, -0.7222, -0.3138,  1.2276, -0.5929,\n",
       "          -0.3364, -0.0321]], requires_grad=True),\n",
       " Parameter containing:\n",
       " tensor([[ 0.0943,  0.1265,  0.1711,  0.1196,  0.0954, -0.0849, -0.1247, -0.1060,\n",
       "           0.1840, -0.0542,  0.0080, -0.2085, -0.0099, -0.0631, -0.1443,  0.1732,\n",
       "          -0.1810, -0.0320, -0.0159, -0.2024],\n",
       "         [ 0.1352, -0.0711,  0.1005,  0.1248,  0.1972,  0.0553,  0.1679,  0.2065,\n",
       "           0.0443, -0.0456, -0.0612,  0.0362,  0.0805, -0.2109,  0.1675,  0.0353,\n",
       "          -0.2083,  0.0716,  0.1419,  0.0836],\n",
       "         [ 0.1825,  0.0046, -0.1855, -0.0005,  0.1625, -0.1076,  0.0954,  0.0515,\n",
       "          -0.0363,  0.0016,  0.0951, -0.1530,  0.1412,  0.1514,  0.1255,  0.2234,\n",
       "          -0.0098, -0.1579,  0.0102, -0.0649],\n",
       "         [ 0.0789,  0.1891, -0.1224,  0.0094,  0.2175, -0.1785, -0.0386,  0.2171,\n",
       "           0.1562,  0.0649, -0.0964, -0.0208, -0.2005, -0.2105, -0.2095,  0.2148,\n",
       "           0.1769,  0.0887, -0.0562,  0.1925],\n",
       "         [-0.0591,  0.1552, -0.0073, -0.1052, -0.0624, -0.0477, -0.2047,  0.0669,\n",
       "          -0.0681,  0.1027,  0.1426, -0.0356,  0.1084,  0.0447,  0.1502, -0.1442,\n",
       "          -0.0196, -0.0745,  0.1959, -0.2007],\n",
       "         [-0.1257,  0.0252,  0.1985,  0.1513, -0.2092, -0.1572,  0.2168,  0.0326,\n",
       "          -0.1915, -0.0704,  0.0978, -0.0468, -0.1718, -0.1381, -0.1158, -0.0088,\n",
       "           0.0876,  0.1074, -0.1086, -0.0375],\n",
       "         [-0.1726,  0.1691,  0.2231,  0.2173,  0.0914, -0.0477, -0.0056,  0.0807,\n",
       "          -0.1938,  0.0139, -0.1818, -0.2236, -0.0075, -0.0712, -0.1416,  0.0371,\n",
       "           0.0091,  0.0341, -0.1251, -0.2190],\n",
       "         [ 0.0049, -0.0912, -0.0754,  0.1646,  0.0365,  0.1021, -0.0625, -0.1774,\n",
       "           0.0446, -0.1481,  0.0277, -0.1745,  0.1686, -0.1523,  0.1941,  0.1580,\n",
       "           0.1690,  0.1342,  0.0518, -0.0109],\n",
       "         [-0.0036, -0.0889, -0.2055,  0.2038,  0.0116,  0.1052,  0.0082,  0.0643,\n",
       "          -0.1378, -0.1738,  0.1705,  0.0848,  0.1104, -0.2219,  0.0151, -0.2086,\n",
       "          -0.0256, -0.0118, -0.1573, -0.2214],\n",
       "         [ 0.0015,  0.2011,  0.2015, -0.1361, -0.0397, -0.1870, -0.1746, -0.0613,\n",
       "           0.2171, -0.0583,  0.0129,  0.2104,  0.0398,  0.1804,  0.1486,  0.2097,\n",
       "           0.0383, -0.1808, -0.1924, -0.1155],\n",
       "         [ 0.1846,  0.1286,  0.0654, -0.1703, -0.1647,  0.1824, -0.0232, -0.2226,\n",
       "          -0.0276, -0.0537,  0.0034,  0.0936,  0.0860, -0.1711, -0.0025, -0.1108,\n",
       "           0.1513,  0.1107,  0.1227,  0.2033],\n",
       "         [ 0.1098, -0.2234,  0.0564, -0.1534,  0.0299,  0.0024,  0.2218, -0.1528,\n",
       "          -0.2191, -0.0599,  0.0360,  0.1638,  0.1813,  0.1722,  0.0706, -0.0639,\n",
       "          -0.0473, -0.1223,  0.0437, -0.1555],\n",
       "         [ 0.0769,  0.1444,  0.1897, -0.2204,  0.1835, -0.1405, -0.0183,  0.2041,\n",
       "           0.1212, -0.0709,  0.1320, -0.2175,  0.1748,  0.2171, -0.0102,  0.0368,\n",
       "          -0.0525, -0.1416, -0.1011, -0.0148],\n",
       "         [-0.1829, -0.1807,  0.0245, -0.1455, -0.1216, -0.0019, -0.1178,  0.2070,\n",
       "          -0.0807, -0.1243, -0.0596, -0.1824,  0.1152,  0.1921, -0.1290, -0.0831,\n",
       "           0.2087, -0.1618,  0.0606, -0.1822],\n",
       "         [-0.1990,  0.0003, -0.1276,  0.1211, -0.0692,  0.0022, -0.1167,  0.0919,\n",
       "           0.2072, -0.0336, -0.1380, -0.2181,  0.2143,  0.0942,  0.0923,  0.0381,\n",
       "           0.1122,  0.0794,  0.1092,  0.1398],\n",
       "         [ 0.0317,  0.1926,  0.1390, -0.0068, -0.0999,  0.0148,  0.1741,  0.1417,\n",
       "          -0.0906, -0.0467,  0.0888,  0.0843,  0.2129,  0.1086,  0.0712,  0.0517,\n",
       "          -0.2101, -0.0824,  0.0237, -0.1556],\n",
       "         [-0.1959,  0.1509,  0.0760, -0.1804,  0.0133,  0.1317,  0.1288,  0.2042,\n",
       "          -0.0884,  0.0996, -0.1814, -0.0276, -0.1422, -0.0426,  0.1273,  0.1115,\n",
       "          -0.1176, -0.0554, -0.0447, -0.0851],\n",
       "         [-0.1225,  0.1642,  0.1546,  0.1867, -0.1228,  0.1637, -0.0678, -0.0525,\n",
       "          -0.0602, -0.0109, -0.0979,  0.0306, -0.1441,  0.0920, -0.1875, -0.0811,\n",
       "          -0.1562,  0.1508,  0.1536, -0.1778],\n",
       "         [-0.1220,  0.2001,  0.0652,  0.1540, -0.1714,  0.1009,  0.1423, -0.0519,\n",
       "          -0.0103,  0.1630,  0.0610,  0.0642,  0.0007, -0.0934, -0.1369,  0.2231,\n",
       "          -0.0177,  0.1984,  0.1830, -0.1169],\n",
       "         [ 0.0152, -0.0572, -0.0041,  0.1474,  0.1231, -0.1270, -0.1106, -0.1589,\n",
       "          -0.1899,  0.1434, -0.1382,  0.0029, -0.0003,  0.0383, -0.0131,  0.1160,\n",
       "           0.0307,  0.1603,  0.0483, -0.0028],\n",
       "         [ 0.0317,  0.1490,  0.0337,  0.1575, -0.0212,  0.0019,  0.1879, -0.2111,\n",
       "           0.0223,  0.2042, -0.1122, -0.0412, -0.0135,  0.0737,  0.0845,  0.0507,\n",
       "           0.0882, -0.0959,  0.0941, -0.0709],\n",
       "         [ 0.1405, -0.0656, -0.1904,  0.0160,  0.1164, -0.0088,  0.0029,  0.0008,\n",
       "           0.1187,  0.0175, -0.1998, -0.1595,  0.0132, -0.0180,  0.2137, -0.0526,\n",
       "           0.1711, -0.1886, -0.2125, -0.0206],\n",
       "         [-0.1416, -0.0652,  0.0252, -0.1940,  0.1537, -0.1357,  0.1716,  0.0731,\n",
       "          -0.0419, -0.1957,  0.0370, -0.1249,  0.1933, -0.1881, -0.0591, -0.1232,\n",
       "          -0.1438, -0.1166, -0.0222,  0.0151],\n",
       "         [ 0.0379,  0.1143, -0.0913, -0.1387, -0.0471,  0.2107, -0.0273, -0.1882,\n",
       "           0.1755,  0.0544,  0.0388,  0.0384,  0.1560, -0.1018,  0.1630,  0.2150,\n",
       "          -0.0577,  0.1411,  0.1234,  0.2094],\n",
       "         [-0.0520, -0.1330, -0.0830, -0.1521,  0.0077,  0.2156,  0.2169,  0.1689,\n",
       "           0.0221,  0.0049,  0.1481,  0.1328, -0.0222, -0.0566,  0.0884, -0.0078,\n",
       "          -0.1571, -0.1052,  0.1813,  0.1862],\n",
       "         [-0.0871, -0.0480, -0.1108, -0.0730,  0.2038, -0.1989,  0.1067, -0.2010,\n",
       "          -0.1067, -0.0455,  0.0155, -0.0363, -0.1022, -0.0997, -0.1360, -0.1561,\n",
       "          -0.1393,  0.2144, -0.1054, -0.1859],\n",
       "         [ 0.1537,  0.0868,  0.1538, -0.2224, -0.2128, -0.1587, -0.1178, -0.0005,\n",
       "           0.0967,  0.1309, -0.1923,  0.0892, -0.1293,  0.0514,  0.0702,  0.0358,\n",
       "           0.0791, -0.0112,  0.1476,  0.0466],\n",
       "         [ 0.1959,  0.0485, -0.1184,  0.1436,  0.0121,  0.2161, -0.0247,  0.2212,\n",
       "          -0.1305,  0.1124, -0.1668,  0.1535,  0.0406,  0.1270, -0.1926, -0.2224,\n",
       "           0.1077, -0.0920,  0.0886, -0.1327],\n",
       "         [-0.0691,  0.0010,  0.1347,  0.1263, -0.0200, -0.0632, -0.0039,  0.1152,\n",
       "          -0.1895, -0.0683, -0.2156,  0.0323, -0.0264,  0.1267,  0.1786, -0.1912,\n",
       "          -0.0990, -0.0359, -0.0022, -0.0510],\n",
       "         [-0.1406, -0.0864, -0.0058,  0.1798, -0.0570,  0.1477, -0.1808,  0.0100,\n",
       "          -0.1745, -0.2098,  0.0222, -0.1024,  0.1646,  0.1766, -0.2226, -0.0156,\n",
       "          -0.0382, -0.1275, -0.1561, -0.0946],\n",
       "         [ 0.0987,  0.0532,  0.1346, -0.0133,  0.1161,  0.0432, -0.0488, -0.0131,\n",
       "          -0.2034, -0.0051, -0.0735, -0.0748, -0.0898, -0.0489, -0.1651,  0.0131,\n",
       "          -0.0091, -0.0589,  0.1941,  0.1501],\n",
       "         [ 0.0632, -0.0824,  0.0285, -0.1539,  0.1558,  0.2089, -0.0334,  0.1724,\n",
       "           0.2099, -0.0134, -0.0830,  0.0113,  0.0370, -0.2070, -0.0139, -0.0808,\n",
       "           0.1492, -0.0064,  0.1471,  0.1989]], requires_grad=True),\n",
       " Parameter containing:\n",
       " tensor([-0.0701,  0.0481, -0.0191, -0.0974, -0.1240,  0.0052,  0.0679, -0.0393,\n",
       "          0.0380,  0.1397,  0.0932,  0.0922,  0.0628, -0.1719, -0.1353, -0.1658,\n",
       "          0.1469, -0.1969, -0.1669,  0.1473,  0.1322, -0.2114,  0.1292, -0.0510,\n",
       "          0.0482, -0.1401, -0.0339,  0.0497,  0.1705,  0.1356, -0.1216, -0.1467],\n",
       "        requires_grad=True),\n",
       " Parameter containing:\n",
       " tensor([[-0.0108,  0.0555,  0.0969, -0.1762, -0.0144,  0.0063, -0.0826,  0.1394,\n",
       "          -0.0469, -0.1685, -0.1055,  0.0057, -0.1316,  0.0404,  0.1720,  0.0072,\n",
       "          -0.0435,  0.1665,  0.1305,  0.1175,  0.0134,  0.0081, -0.1371,  0.0180,\n",
       "           0.1719,  0.0093, -0.1578,  0.0970,  0.1586,  0.1482,  0.0083,  0.0332]],\n",
       "        requires_grad=True),\n",
       " Parameter containing:\n",
       " tensor([0.0286], requires_grad=True)]"
      ]
     },
     "execution_count": 36,
     "metadata": {},
     "output_type": "execute_result"
    }
   ],
   "source": [
    "list(catg_enc_model.parameters())"
   ]
  },
  {
   "cell_type": "code",
   "execution_count": 38,
   "metadata": {},
   "outputs": [],
   "source": [
    "loss_function = nn.BCEWithLogitsLoss()\n",
    "optimizer = optim.SGD(catg_enc_model.parameters(), lr=0.01)"
   ]
  },
  {
   "cell_type": "code",
   "execution_count": 39,
   "metadata": {},
   "outputs": [
    {
     "data": {
      "text/plain": [
       "target\n",
       "0    487677\n",
       "1    112323\n",
       "Name: count, dtype: int64"
      ]
     },
     "execution_count": 39,
     "metadata": {},
     "output_type": "execute_result"
    }
   ],
   "source": [
    "train_catg_df.target.value_counts()"
   ]
  },
  {
   "cell_type": "code",
   "execution_count": 42,
   "metadata": {},
   "outputs": [
    {
     "data": {
      "text/html": [
       "<div>\n",
       "<style scoped>\n",
       "    .dataframe tbody tr th:only-of-type {\n",
       "        vertical-align: middle;\n",
       "    }\n",
       "\n",
       "    .dataframe tbody tr th {\n",
       "        vertical-align: top;\n",
       "    }\n",
       "\n",
       "    .dataframe thead th {\n",
       "        text-align: right;\n",
       "    }\n",
       "</style>\n",
       "<table border=\"1\" class=\"dataframe\">\n",
       "  <thead>\n",
       "    <tr style=\"text-align: right;\">\n",
       "      <th></th>\n",
       "      <th>bin_3</th>\n",
       "      <th>bin_4</th>\n",
       "      <th>target</th>\n",
       "    </tr>\n",
       "  </thead>\n",
       "  <tbody>\n",
       "    <tr>\n",
       "      <th>99666</th>\n",
       "      <td>0</td>\n",
       "      <td>2</td>\n",
       "      <td>0</td>\n",
       "    </tr>\n",
       "    <tr>\n",
       "      <th>159761</th>\n",
       "      <td>0</td>\n",
       "      <td>1</td>\n",
       "      <td>1</td>\n",
       "    </tr>\n",
       "    <tr>\n",
       "      <th>105919</th>\n",
       "      <td>0</td>\n",
       "      <td>0</td>\n",
       "      <td>0</td>\n",
       "    </tr>\n",
       "    <tr>\n",
       "      <th>188760</th>\n",
       "      <td>0</td>\n",
       "      <td>1</td>\n",
       "      <td>0</td>\n",
       "    </tr>\n",
       "    <tr>\n",
       "      <th>464731</th>\n",
       "      <td>0</td>\n",
       "      <td>1</td>\n",
       "      <td>0</td>\n",
       "    </tr>\n",
       "    <tr>\n",
       "      <th>178950</th>\n",
       "      <td>1</td>\n",
       "      <td>1</td>\n",
       "      <td>0</td>\n",
       "    </tr>\n",
       "    <tr>\n",
       "      <th>504456</th>\n",
       "      <td>0</td>\n",
       "      <td>0</td>\n",
       "      <td>0</td>\n",
       "    </tr>\n",
       "    <tr>\n",
       "      <th>291511</th>\n",
       "      <td>0</td>\n",
       "      <td>0</td>\n",
       "      <td>0</td>\n",
       "    </tr>\n",
       "    <tr>\n",
       "      <th>526743</th>\n",
       "      <td>1</td>\n",
       "      <td>0</td>\n",
       "      <td>0</td>\n",
       "    </tr>\n",
       "    <tr>\n",
       "      <th>98102</th>\n",
       "      <td>0</td>\n",
       "      <td>0</td>\n",
       "      <td>0</td>\n",
       "    </tr>\n",
       "  </tbody>\n",
       "</table>\n",
       "</div>"
      ],
      "text/plain": [
       "        bin_3  bin_4  target\n",
       "99666       0      2       0\n",
       "159761      0      1       1\n",
       "105919      0      0       0\n",
       "188760      0      1       0\n",
       "464731      0      1       0\n",
       "178950      1      1       0\n",
       "504456      0      0       0\n",
       "291511      0      0       0\n",
       "526743      1      0       0\n",
       "98102       0      0       0"
      ]
     },
     "execution_count": 42,
     "metadata": {},
     "output_type": "execute_result"
    }
   ],
   "source": [
    "sample_data = train_catg_df.sample(10, random_state=43)\n",
    "sample_data"
   ]
  },
  {
   "cell_type": "code",
   "execution_count": 45,
   "metadata": {},
   "outputs": [
    {
     "data": {
      "text/plain": [
       "CategoricalEncodingModel(\n",
       "  (embeddings_bin3): Embedding(3, 10)\n",
       "  (embeddings_bin4): Embedding(3, 10)\n",
       "  (linear1): Linear(in_features=20, out_features=32, bias=True)\n",
       "  (linear2): Linear(in_features=32, out_features=1, bias=True)\n",
       ")"
      ]
     },
     "execution_count": 45,
     "metadata": {},
     "output_type": "execute_result"
    }
   ],
   "source": [
    "catg_enc_model"
   ]
  },
  {
   "cell_type": "code",
   "execution_count": 52,
   "metadata": {},
   "outputs": [
    {
     "data": {
      "text/plain": [
       "CategoricalEncodingModel(\n",
       "  (embeddings_bin3): Embedding(3, 10)\n",
       "  (embeddings_bin4): Embedding(3, 10)\n",
       "  (linear1): Linear(in_features=20, out_features=32, bias=True)\n",
       "  (linear2): Linear(in_features=32, out_features=1, bias=True)\n",
       ")"
      ]
     },
     "execution_count": 52,
     "metadata": {},
     "output_type": "execute_result"
    },
    {
     "data": {
      "text/plain": [
       "CategoricalEncodingModel(\n",
       "  (embeddings_bin3): Embedding(3, 10)\n",
       "  (embeddings_bin4): Embedding(3, 10)\n",
       "  (linear1): Linear(in_features=20, out_features=32, bias=True)\n",
       "  (linear2): Linear(in_features=32, out_features=1, bias=True)\n",
       ")"
      ]
     },
     "execution_count": 52,
     "metadata": {},
     "output_type": "execute_result"
    },
    {
     "data": {
      "text/plain": [
       "CategoricalEncodingModel(\n",
       "  (embeddings_bin3): Embedding(3, 10)\n",
       "  (embeddings_bin4): Embedding(3, 10)\n",
       "  (linear1): Linear(in_features=20, out_features=32, bias=True)\n",
       "  (linear2): Linear(in_features=32, out_features=1, bias=True)\n",
       ")"
      ]
     },
     "execution_count": 52,
     "metadata": {},
     "output_type": "execute_result"
    },
    {
     "data": {
      "text/plain": [
       "CategoricalEncodingModel(\n",
       "  (embeddings_bin3): Embedding(3, 10)\n",
       "  (embeddings_bin4): Embedding(3, 10)\n",
       "  (linear1): Linear(in_features=20, out_features=32, bias=True)\n",
       "  (linear2): Linear(in_features=32, out_features=1, bias=True)\n",
       ")"
      ]
     },
     "execution_count": 52,
     "metadata": {},
     "output_type": "execute_result"
    },
    {
     "data": {
      "text/plain": [
       "CategoricalEncodingModel(\n",
       "  (embeddings_bin3): Embedding(3, 10)\n",
       "  (embeddings_bin4): Embedding(3, 10)\n",
       "  (linear1): Linear(in_features=20, out_features=32, bias=True)\n",
       "  (linear2): Linear(in_features=32, out_features=1, bias=True)\n",
       ")"
      ]
     },
     "execution_count": 52,
     "metadata": {},
     "output_type": "execute_result"
    },
    {
     "data": {
      "text/plain": [
       "CategoricalEncodingModel(\n",
       "  (embeddings_bin3): Embedding(3, 10)\n",
       "  (embeddings_bin4): Embedding(3, 10)\n",
       "  (linear1): Linear(in_features=20, out_features=32, bias=True)\n",
       "  (linear2): Linear(in_features=32, out_features=1, bias=True)\n",
       ")"
      ]
     },
     "execution_count": 52,
     "metadata": {},
     "output_type": "execute_result"
    },
    {
     "data": {
      "text/plain": [
       "CategoricalEncodingModel(\n",
       "  (embeddings_bin3): Embedding(3, 10)\n",
       "  (embeddings_bin4): Embedding(3, 10)\n",
       "  (linear1): Linear(in_features=20, out_features=32, bias=True)\n",
       "  (linear2): Linear(in_features=32, out_features=1, bias=True)\n",
       ")"
      ]
     },
     "execution_count": 52,
     "metadata": {},
     "output_type": "execute_result"
    },
    {
     "data": {
      "text/plain": [
       "CategoricalEncodingModel(\n",
       "  (embeddings_bin3): Embedding(3, 10)\n",
       "  (embeddings_bin4): Embedding(3, 10)\n",
       "  (linear1): Linear(in_features=20, out_features=32, bias=True)\n",
       "  (linear2): Linear(in_features=32, out_features=1, bias=True)\n",
       ")"
      ]
     },
     "execution_count": 52,
     "metadata": {},
     "output_type": "execute_result"
    },
    {
     "data": {
      "text/plain": [
       "CategoricalEncodingModel(\n",
       "  (embeddings_bin3): Embedding(3, 10)\n",
       "  (embeddings_bin4): Embedding(3, 10)\n",
       "  (linear1): Linear(in_features=20, out_features=32, bias=True)\n",
       "  (linear2): Linear(in_features=32, out_features=1, bias=True)\n",
       ")"
      ]
     },
     "execution_count": 52,
     "metadata": {},
     "output_type": "execute_result"
    },
    {
     "data": {
      "text/plain": [
       "CategoricalEncodingModel(\n",
       "  (embeddings_bin3): Embedding(3, 10)\n",
       "  (embeddings_bin4): Embedding(3, 10)\n",
       "  (linear1): Linear(in_features=20, out_features=32, bias=True)\n",
       "  (linear2): Linear(in_features=32, out_features=1, bias=True)\n",
       ")"
      ]
     },
     "execution_count": 52,
     "metadata": {},
     "output_type": "execute_result"
    },
    {
     "data": {
      "text/plain": [
       "CategoricalEncodingModel(\n",
       "  (embeddings_bin3): Embedding(3, 10)\n",
       "  (embeddings_bin4): Embedding(3, 10)\n",
       "  (linear1): Linear(in_features=20, out_features=32, bias=True)\n",
       "  (linear2): Linear(in_features=32, out_features=1, bias=True)\n",
       ")"
      ]
     },
     "execution_count": 52,
     "metadata": {},
     "output_type": "execute_result"
    },
    {
     "data": {
      "text/plain": [
       "CategoricalEncodingModel(\n",
       "  (embeddings_bin3): Embedding(3, 10)\n",
       "  (embeddings_bin4): Embedding(3, 10)\n",
       "  (linear1): Linear(in_features=20, out_features=32, bias=True)\n",
       "  (linear2): Linear(in_features=32, out_features=1, bias=True)\n",
       ")"
      ]
     },
     "execution_count": 52,
     "metadata": {},
     "output_type": "execute_result"
    },
    {
     "data": {
      "text/plain": [
       "CategoricalEncodingModel(\n",
       "  (embeddings_bin3): Embedding(3, 10)\n",
       "  (embeddings_bin4): Embedding(3, 10)\n",
       "  (linear1): Linear(in_features=20, out_features=32, bias=True)\n",
       "  (linear2): Linear(in_features=32, out_features=1, bias=True)\n",
       ")"
      ]
     },
     "execution_count": 52,
     "metadata": {},
     "output_type": "execute_result"
    },
    {
     "data": {
      "text/plain": [
       "CategoricalEncodingModel(\n",
       "  (embeddings_bin3): Embedding(3, 10)\n",
       "  (embeddings_bin4): Embedding(3, 10)\n",
       "  (linear1): Linear(in_features=20, out_features=32, bias=True)\n",
       "  (linear2): Linear(in_features=32, out_features=1, bias=True)\n",
       ")"
      ]
     },
     "execution_count": 52,
     "metadata": {},
     "output_type": "execute_result"
    },
    {
     "data": {
      "text/plain": [
       "CategoricalEncodingModel(\n",
       "  (embeddings_bin3): Embedding(3, 10)\n",
       "  (embeddings_bin4): Embedding(3, 10)\n",
       "  (linear1): Linear(in_features=20, out_features=32, bias=True)\n",
       "  (linear2): Linear(in_features=32, out_features=1, bias=True)\n",
       ")"
      ]
     },
     "execution_count": 52,
     "metadata": {},
     "output_type": "execute_result"
    },
    {
     "data": {
      "text/plain": [
       "CategoricalEncodingModel(\n",
       "  (embeddings_bin3): Embedding(3, 10)\n",
       "  (embeddings_bin4): Embedding(3, 10)\n",
       "  (linear1): Linear(in_features=20, out_features=32, bias=True)\n",
       "  (linear2): Linear(in_features=32, out_features=1, bias=True)\n",
       ")"
      ]
     },
     "execution_count": 52,
     "metadata": {},
     "output_type": "execute_result"
    },
    {
     "data": {
      "text/plain": [
       "CategoricalEncodingModel(\n",
       "  (embeddings_bin3): Embedding(3, 10)\n",
       "  (embeddings_bin4): Embedding(3, 10)\n",
       "  (linear1): Linear(in_features=20, out_features=32, bias=True)\n",
       "  (linear2): Linear(in_features=32, out_features=1, bias=True)\n",
       ")"
      ]
     },
     "execution_count": 52,
     "metadata": {},
     "output_type": "execute_result"
    },
    {
     "data": {
      "text/plain": [
       "CategoricalEncodingModel(\n",
       "  (embeddings_bin3): Embedding(3, 10)\n",
       "  (embeddings_bin4): Embedding(3, 10)\n",
       "  (linear1): Linear(in_features=20, out_features=32, bias=True)\n",
       "  (linear2): Linear(in_features=32, out_features=1, bias=True)\n",
       ")"
      ]
     },
     "execution_count": 52,
     "metadata": {},
     "output_type": "execute_result"
    },
    {
     "data": {
      "text/plain": [
       "CategoricalEncodingModel(\n",
       "  (embeddings_bin3): Embedding(3, 10)\n",
       "  (embeddings_bin4): Embedding(3, 10)\n",
       "  (linear1): Linear(in_features=20, out_features=32, bias=True)\n",
       "  (linear2): Linear(in_features=32, out_features=1, bias=True)\n",
       ")"
      ]
     },
     "execution_count": 52,
     "metadata": {},
     "output_type": "execute_result"
    },
    {
     "data": {
      "text/plain": [
       "CategoricalEncodingModel(\n",
       "  (embeddings_bin3): Embedding(3, 10)\n",
       "  (embeddings_bin4): Embedding(3, 10)\n",
       "  (linear1): Linear(in_features=20, out_features=32, bias=True)\n",
       "  (linear2): Linear(in_features=32, out_features=1, bias=True)\n",
       ")"
      ]
     },
     "execution_count": 52,
     "metadata": {},
     "output_type": "execute_result"
    },
    {
     "data": {
      "text/plain": [
       "CategoricalEncodingModel(\n",
       "  (embeddings_bin3): Embedding(3, 10)\n",
       "  (embeddings_bin4): Embedding(3, 10)\n",
       "  (linear1): Linear(in_features=20, out_features=32, bias=True)\n",
       "  (linear2): Linear(in_features=32, out_features=1, bias=True)\n",
       ")"
      ]
     },
     "execution_count": 52,
     "metadata": {},
     "output_type": "execute_result"
    },
    {
     "data": {
      "text/plain": [
       "CategoricalEncodingModel(\n",
       "  (embeddings_bin3): Embedding(3, 10)\n",
       "  (embeddings_bin4): Embedding(3, 10)\n",
       "  (linear1): Linear(in_features=20, out_features=32, bias=True)\n",
       "  (linear2): Linear(in_features=32, out_features=1, bias=True)\n",
       ")"
      ]
     },
     "execution_count": 52,
     "metadata": {},
     "output_type": "execute_result"
    },
    {
     "data": {
      "text/plain": [
       "CategoricalEncodingModel(\n",
       "  (embeddings_bin3): Embedding(3, 10)\n",
       "  (embeddings_bin4): Embedding(3, 10)\n",
       "  (linear1): Linear(in_features=20, out_features=32, bias=True)\n",
       "  (linear2): Linear(in_features=32, out_features=1, bias=True)\n",
       ")"
      ]
     },
     "execution_count": 52,
     "metadata": {},
     "output_type": "execute_result"
    },
    {
     "data": {
      "text/plain": [
       "CategoricalEncodingModel(\n",
       "  (embeddings_bin3): Embedding(3, 10)\n",
       "  (embeddings_bin4): Embedding(3, 10)\n",
       "  (linear1): Linear(in_features=20, out_features=32, bias=True)\n",
       "  (linear2): Linear(in_features=32, out_features=1, bias=True)\n",
       ")"
      ]
     },
     "execution_count": 52,
     "metadata": {},
     "output_type": "execute_result"
    },
    {
     "data": {
      "text/plain": [
       "CategoricalEncodingModel(\n",
       "  (embeddings_bin3): Embedding(3, 10)\n",
       "  (embeddings_bin4): Embedding(3, 10)\n",
       "  (linear1): Linear(in_features=20, out_features=32, bias=True)\n",
       "  (linear2): Linear(in_features=32, out_features=1, bias=True)\n",
       ")"
      ]
     },
     "execution_count": 52,
     "metadata": {},
     "output_type": "execute_result"
    },
    {
     "data": {
      "text/plain": [
       "CategoricalEncodingModel(\n",
       "  (embeddings_bin3): Embedding(3, 10)\n",
       "  (embeddings_bin4): Embedding(3, 10)\n",
       "  (linear1): Linear(in_features=20, out_features=32, bias=True)\n",
       "  (linear2): Linear(in_features=32, out_features=1, bias=True)\n",
       ")"
      ]
     },
     "execution_count": 52,
     "metadata": {},
     "output_type": "execute_result"
    },
    {
     "data": {
      "text/plain": [
       "CategoricalEncodingModel(\n",
       "  (embeddings_bin3): Embedding(3, 10)\n",
       "  (embeddings_bin4): Embedding(3, 10)\n",
       "  (linear1): Linear(in_features=20, out_features=32, bias=True)\n",
       "  (linear2): Linear(in_features=32, out_features=1, bias=True)\n",
       ")"
      ]
     },
     "execution_count": 52,
     "metadata": {},
     "output_type": "execute_result"
    },
    {
     "data": {
      "text/plain": [
       "CategoricalEncodingModel(\n",
       "  (embeddings_bin3): Embedding(3, 10)\n",
       "  (embeddings_bin4): Embedding(3, 10)\n",
       "  (linear1): Linear(in_features=20, out_features=32, bias=True)\n",
       "  (linear2): Linear(in_features=32, out_features=1, bias=True)\n",
       ")"
      ]
     },
     "execution_count": 52,
     "metadata": {},
     "output_type": "execute_result"
    },
    {
     "data": {
      "text/plain": [
       "CategoricalEncodingModel(\n",
       "  (embeddings_bin3): Embedding(3, 10)\n",
       "  (embeddings_bin4): Embedding(3, 10)\n",
       "  (linear1): Linear(in_features=20, out_features=32, bias=True)\n",
       "  (linear2): Linear(in_features=32, out_features=1, bias=True)\n",
       ")"
      ]
     },
     "execution_count": 52,
     "metadata": {},
     "output_type": "execute_result"
    },
    {
     "data": {
      "text/plain": [
       "CategoricalEncodingModel(\n",
       "  (embeddings_bin3): Embedding(3, 10)\n",
       "  (embeddings_bin4): Embedding(3, 10)\n",
       "  (linear1): Linear(in_features=20, out_features=32, bias=True)\n",
       "  (linear2): Linear(in_features=32, out_features=1, bias=True)\n",
       ")"
      ]
     },
     "execution_count": 52,
     "metadata": {},
     "output_type": "execute_result"
    },
    {
     "data": {
      "text/plain": [
       "CategoricalEncodingModel(\n",
       "  (embeddings_bin3): Embedding(3, 10)\n",
       "  (embeddings_bin4): Embedding(3, 10)\n",
       "  (linear1): Linear(in_features=20, out_features=32, bias=True)\n",
       "  (linear2): Linear(in_features=32, out_features=1, bias=True)\n",
       ")"
      ]
     },
     "execution_count": 52,
     "metadata": {},
     "output_type": "execute_result"
    },
    {
     "data": {
      "text/plain": [
       "CategoricalEncodingModel(\n",
       "  (embeddings_bin3): Embedding(3, 10)\n",
       "  (embeddings_bin4): Embedding(3, 10)\n",
       "  (linear1): Linear(in_features=20, out_features=32, bias=True)\n",
       "  (linear2): Linear(in_features=32, out_features=1, bias=True)\n",
       ")"
      ]
     },
     "execution_count": 52,
     "metadata": {},
     "output_type": "execute_result"
    },
    {
     "data": {
      "text/plain": [
       "CategoricalEncodingModel(\n",
       "  (embeddings_bin3): Embedding(3, 10)\n",
       "  (embeddings_bin4): Embedding(3, 10)\n",
       "  (linear1): Linear(in_features=20, out_features=32, bias=True)\n",
       "  (linear2): Linear(in_features=32, out_features=1, bias=True)\n",
       ")"
      ]
     },
     "execution_count": 52,
     "metadata": {},
     "output_type": "execute_result"
    },
    {
     "data": {
      "text/plain": [
       "CategoricalEncodingModel(\n",
       "  (embeddings_bin3): Embedding(3, 10)\n",
       "  (embeddings_bin4): Embedding(3, 10)\n",
       "  (linear1): Linear(in_features=20, out_features=32, bias=True)\n",
       "  (linear2): Linear(in_features=32, out_features=1, bias=True)\n",
       ")"
      ]
     },
     "execution_count": 52,
     "metadata": {},
     "output_type": "execute_result"
    },
    {
     "data": {
      "text/plain": [
       "CategoricalEncodingModel(\n",
       "  (embeddings_bin3): Embedding(3, 10)\n",
       "  (embeddings_bin4): Embedding(3, 10)\n",
       "  (linear1): Linear(in_features=20, out_features=32, bias=True)\n",
       "  (linear2): Linear(in_features=32, out_features=1, bias=True)\n",
       ")"
      ]
     },
     "execution_count": 52,
     "metadata": {},
     "output_type": "execute_result"
    },
    {
     "data": {
      "text/plain": [
       "CategoricalEncodingModel(\n",
       "  (embeddings_bin3): Embedding(3, 10)\n",
       "  (embeddings_bin4): Embedding(3, 10)\n",
       "  (linear1): Linear(in_features=20, out_features=32, bias=True)\n",
       "  (linear2): Linear(in_features=32, out_features=1, bias=True)\n",
       ")"
      ]
     },
     "execution_count": 52,
     "metadata": {},
     "output_type": "execute_result"
    },
    {
     "data": {
      "text/plain": [
       "CategoricalEncodingModel(\n",
       "  (embeddings_bin3): Embedding(3, 10)\n",
       "  (embeddings_bin4): Embedding(3, 10)\n",
       "  (linear1): Linear(in_features=20, out_features=32, bias=True)\n",
       "  (linear2): Linear(in_features=32, out_features=1, bias=True)\n",
       ")"
      ]
     },
     "execution_count": 52,
     "metadata": {},
     "output_type": "execute_result"
    },
    {
     "data": {
      "text/plain": [
       "CategoricalEncodingModel(\n",
       "  (embeddings_bin3): Embedding(3, 10)\n",
       "  (embeddings_bin4): Embedding(3, 10)\n",
       "  (linear1): Linear(in_features=20, out_features=32, bias=True)\n",
       "  (linear2): Linear(in_features=32, out_features=1, bias=True)\n",
       ")"
      ]
     },
     "execution_count": 52,
     "metadata": {},
     "output_type": "execute_result"
    },
    {
     "data": {
      "text/plain": [
       "CategoricalEncodingModel(\n",
       "  (embeddings_bin3): Embedding(3, 10)\n",
       "  (embeddings_bin4): Embedding(3, 10)\n",
       "  (linear1): Linear(in_features=20, out_features=32, bias=True)\n",
       "  (linear2): Linear(in_features=32, out_features=1, bias=True)\n",
       ")"
      ]
     },
     "execution_count": 52,
     "metadata": {},
     "output_type": "execute_result"
    },
    {
     "data": {
      "text/plain": [
       "CategoricalEncodingModel(\n",
       "  (embeddings_bin3): Embedding(3, 10)\n",
       "  (embeddings_bin4): Embedding(3, 10)\n",
       "  (linear1): Linear(in_features=20, out_features=32, bias=True)\n",
       "  (linear2): Linear(in_features=32, out_features=1, bias=True)\n",
       ")"
      ]
     },
     "execution_count": 52,
     "metadata": {},
     "output_type": "execute_result"
    },
    {
     "data": {
      "text/plain": [
       "CategoricalEncodingModel(\n",
       "  (embeddings_bin3): Embedding(3, 10)\n",
       "  (embeddings_bin4): Embedding(3, 10)\n",
       "  (linear1): Linear(in_features=20, out_features=32, bias=True)\n",
       "  (linear2): Linear(in_features=32, out_features=1, bias=True)\n",
       ")"
      ]
     },
     "execution_count": 52,
     "metadata": {},
     "output_type": "execute_result"
    },
    {
     "data": {
      "text/plain": [
       "CategoricalEncodingModel(\n",
       "  (embeddings_bin3): Embedding(3, 10)\n",
       "  (embeddings_bin4): Embedding(3, 10)\n",
       "  (linear1): Linear(in_features=20, out_features=32, bias=True)\n",
       "  (linear2): Linear(in_features=32, out_features=1, bias=True)\n",
       ")"
      ]
     },
     "execution_count": 52,
     "metadata": {},
     "output_type": "execute_result"
    },
    {
     "data": {
      "text/plain": [
       "CategoricalEncodingModel(\n",
       "  (embeddings_bin3): Embedding(3, 10)\n",
       "  (embeddings_bin4): Embedding(3, 10)\n",
       "  (linear1): Linear(in_features=20, out_features=32, bias=True)\n",
       "  (linear2): Linear(in_features=32, out_features=1, bias=True)\n",
       ")"
      ]
     },
     "execution_count": 52,
     "metadata": {},
     "output_type": "execute_result"
    },
    {
     "data": {
      "text/plain": [
       "CategoricalEncodingModel(\n",
       "  (embeddings_bin3): Embedding(3, 10)\n",
       "  (embeddings_bin4): Embedding(3, 10)\n",
       "  (linear1): Linear(in_features=20, out_features=32, bias=True)\n",
       "  (linear2): Linear(in_features=32, out_features=1, bias=True)\n",
       ")"
      ]
     },
     "execution_count": 52,
     "metadata": {},
     "output_type": "execute_result"
    },
    {
     "data": {
      "text/plain": [
       "CategoricalEncodingModel(\n",
       "  (embeddings_bin3): Embedding(3, 10)\n",
       "  (embeddings_bin4): Embedding(3, 10)\n",
       "  (linear1): Linear(in_features=20, out_features=32, bias=True)\n",
       "  (linear2): Linear(in_features=32, out_features=1, bias=True)\n",
       ")"
      ]
     },
     "execution_count": 52,
     "metadata": {},
     "output_type": "execute_result"
    },
    {
     "data": {
      "text/plain": [
       "CategoricalEncodingModel(\n",
       "  (embeddings_bin3): Embedding(3, 10)\n",
       "  (embeddings_bin4): Embedding(3, 10)\n",
       "  (linear1): Linear(in_features=20, out_features=32, bias=True)\n",
       "  (linear2): Linear(in_features=32, out_features=1, bias=True)\n",
       ")"
      ]
     },
     "execution_count": 52,
     "metadata": {},
     "output_type": "execute_result"
    },
    {
     "data": {
      "text/plain": [
       "CategoricalEncodingModel(\n",
       "  (embeddings_bin3): Embedding(3, 10)\n",
       "  (embeddings_bin4): Embedding(3, 10)\n",
       "  (linear1): Linear(in_features=20, out_features=32, bias=True)\n",
       "  (linear2): Linear(in_features=32, out_features=1, bias=True)\n",
       ")"
      ]
     },
     "execution_count": 52,
     "metadata": {},
     "output_type": "execute_result"
    },
    {
     "data": {
      "text/plain": [
       "CategoricalEncodingModel(\n",
       "  (embeddings_bin3): Embedding(3, 10)\n",
       "  (embeddings_bin4): Embedding(3, 10)\n",
       "  (linear1): Linear(in_features=20, out_features=32, bias=True)\n",
       "  (linear2): Linear(in_features=32, out_features=1, bias=True)\n",
       ")"
      ]
     },
     "execution_count": 52,
     "metadata": {},
     "output_type": "execute_result"
    },
    {
     "data": {
      "text/plain": [
       "CategoricalEncodingModel(\n",
       "  (embeddings_bin3): Embedding(3, 10)\n",
       "  (embeddings_bin4): Embedding(3, 10)\n",
       "  (linear1): Linear(in_features=20, out_features=32, bias=True)\n",
       "  (linear2): Linear(in_features=32, out_features=1, bias=True)\n",
       ")"
      ]
     },
     "execution_count": 52,
     "metadata": {},
     "output_type": "execute_result"
    },
    {
     "data": {
      "text/plain": [
       "CategoricalEncodingModel(\n",
       "  (embeddings_bin3): Embedding(3, 10)\n",
       "  (embeddings_bin4): Embedding(3, 10)\n",
       "  (linear1): Linear(in_features=20, out_features=32, bias=True)\n",
       "  (linear2): Linear(in_features=32, out_features=1, bias=True)\n",
       ")"
      ]
     },
     "execution_count": 52,
     "metadata": {},
     "output_type": "execute_result"
    },
    {
     "name": "stdout",
     "output_type": "stream",
     "text": [
      "loss_values: [tensor(3.3754, grad_fn=<AddBackward0>), tensor(3.6834, grad_fn=<AddBackward0>), tensor(2.4904, grad_fn=<AddBackward0>), tensor(2.9169, grad_fn=<AddBackward0>), tensor(2.7318, grad_fn=<AddBackward0>)]\n"
     ]
    }
   ],
   "source": [
    "loss_values = []\n",
    "for epoch in range(5):\n",
    "    total_loss = 0\n",
    "    for input_x1, input_x2, y in sample_data.values:\n",
    "        # print(input_x1, input_x2, y)\n",
    "        cat_cols_input = torch.tensor([input_x1, input_x2], dtype=torch.long)\n",
    "        target = torch.tensor(y, dtype=torch.float)\n",
    "\n",
    "        # model training mode\n",
    "        catg_enc_model.train()\n",
    "        # logits = catg_enc_model(cat_cols_input)  # shape will be [1, 1] so need to squeeze \n",
    "        # print(f'logits.shape: {logits.shape}')\n",
    "\n",
    "        logits = catg_enc_model(cat_cols_input).squeeze()\n",
    "        # print(f'logits: {logits}')\n",
    "        loss = loss_function(logits, target)\n",
    "\n",
    "        # backpropagation\n",
    "        loss.backward()\n",
    "\n",
    "        # update model parameters\n",
    "        optimizer.step()\n",
    "\n",
    "        total_loss += loss\n",
    "    loss_values.append(total_loss)\n",
    "\n",
    "print(f'loss_values: {loss_values}')"
   ]
  },
  {
   "cell_type": "code",
   "execution_count": 53,
   "metadata": {},
   "outputs": [
    {
     "data": {
      "text/plain": [
       "Parameter containing:\n",
       "tensor([[ 1.2500e+00,  1.5430e+00, -5.9764e-01, -2.0758e+00, -1.4551e-01,\n",
       "          3.3795e+00, -1.3366e+00,  2.9048e-01, -3.5560e-01,  1.2215e+00],\n",
       "        [-3.3297e-01,  5.4438e-01,  3.0106e+00, -1.1280e+00, -5.7875e-01,\n",
       "          1.0383e-01,  9.7325e-01, -1.2814e+00,  1.8011e+00, -2.8478e-01],\n",
       "        [-6.1215e-04,  1.5526e+00,  7.9828e-01, -1.8805e-01,  9.7693e-02,\n",
       "          9.9620e-01, -1.3022e+00, -1.2149e+00,  1.7847e-01,  6.9572e-01]],\n",
       "       requires_grad=True)"
      ]
     },
     "execution_count": 53,
     "metadata": {},
     "output_type": "execute_result"
    }
   ],
   "source": [
    "catg_enc_model.embeddings_bin3.weight"
   ]
  },
  {
   "cell_type": "code",
   "execution_count": 54,
   "metadata": {},
   "outputs": [
    {
     "data": {
      "text/plain": [
       "Parameter containing:\n",
       "tensor([[-1.2272,  1.1315, -0.4879, -0.6067, -1.1531,  1.3928,  1.9960, -0.1623,\n",
       "         -0.1877,  1.3936],\n",
       "        [-0.1209, -0.7328,  1.3664, -0.4009, -0.6865,  0.6415, -1.0096, -0.2731,\n",
       "         -0.1737, -0.2357],\n",
       "        [ 0.1192, -0.8627,  1.0053, -1.2238, -0.9756, -0.0328,  1.5227, -0.6736,\n",
       "         -0.6130,  0.2028]], requires_grad=True)"
      ]
     },
     "execution_count": 54,
     "metadata": {},
     "output_type": "execute_result"
    }
   ],
   "source": [
    "catg_enc_model.embeddings_bin4.weight"
   ]
  }
 ],
 "metadata": {
  "kernelspec": {
   "display_name": "pytorch_kernel",
   "language": "python",
   "name": "pytorch_kernel"
  },
  "language_info": {
   "codemirror_mode": {
    "name": "ipython",
    "version": 3
   },
   "file_extension": ".py",
   "mimetype": "text/x-python",
   "name": "python",
   "nbconvert_exporter": "python",
   "pygments_lexer": "ipython3",
   "version": "3.9.4"
  },
  "orig_nbformat": 4
 },
 "nbformat": 4,
 "nbformat_minor": 2
}
